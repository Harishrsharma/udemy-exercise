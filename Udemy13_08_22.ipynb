{
  "nbformat": 4,
  "nbformat_minor": 0,
  "metadata": {
    "colab": {
      "name": "Udemy13-08-22",
      "provenance": [],
      "toc_visible": true,
      "authorship_tag": "ABX9TyPPluMm6PVYjSGerAn5aBJ+",
      "include_colab_link": true
    },
    "kernelspec": {
      "name": "python3",
      "display_name": "Python 3"
    },
    "language_info": {
      "name": "python"
    }
  },
  "cells": [
    {
      "cell_type": "markdown",
      "metadata": {
        "id": "view-in-github",
        "colab_type": "text"
      },
      "source": [
        "<a href=\"https://colab.research.google.com/github/Harishrsharma/udemy-exercise/blob/main/Udemy13_08_22.ipynb\" target=\"_parent\"><img src=\"https://colab.research.google.com/assets/colab-badge.svg\" alt=\"Open In Colab\"/></a>"
      ]
    },
    {
      "cell_type": "markdown",
      "source": [
        "###Sales###\n"
      ],
      "metadata": {
        "id": "HaoTAywJodyV"
      }
    },
    {
      "cell_type": "code",
      "source": [
        "print(\"Hello Welcome\")"
      ],
      "metadata": {
        "id": "CbIuCQhemL6b",
        "colab": {
          "base_uri": "https://localhost:8080/"
        },
        "outputId": "a06a80e7-3c71-4e73-a298-01f097f62bb7"
      },
      "execution_count": 4,
      "outputs": [
        {
          "output_type": "stream",
          "name": "stdout",
          "text": [
            "Hello Welcome\n"
          ]
        }
      ]
    },
    {
      "cell_type": "code",
      "source": [
        "revenue = 10000\n",
        "tax = 0.18\n",
        "income = revenue * tax\n",
        "income"
      ],
      "metadata": {
        "colab": {
          "base_uri": "https://localhost:8080/"
        },
        "id": "sxyPgCgfnReU",
        "outputId": "87178a07-8a54-4846-eba7-68db3c656fea"
      },
      "execution_count": 5,
      "outputs": [
        {
          "output_type": "execute_result",
          "data": {
            "text/plain": [
              "1800.0"
            ]
          },
          "metadata": {},
          "execution_count": 5
        }
      ]
    },
    {
      "cell_type": "code",
      "source": [
        "print(income)"
      ],
      "metadata": {
        "colab": {
          "base_uri": "https://localhost:8080/"
        },
        "id": "CLzNUS05oO9A",
        "outputId": "da2c74f8-6e6a-49a8-faae-6f93b3341fb9"
      },
      "execution_count": 6,
      "outputs": [
        {
          "output_type": "stream",
          "name": "stdout",
          "text": [
            "1800.0\n"
          ]
        }
      ]
    },
    {
      "cell_type": "code",
      "source": [
        "import numpy as np\n",
        "\n",
        "np.__version__\n"
      ],
      "metadata": {
        "colab": {
          "base_uri": "https://localhost:8080/",
          "height": 36
        },
        "id": "wX1f6XUnoV1P",
        "outputId": "91ffc764-c0ff-4018-fc85-e5c45c901650"
      },
      "execution_count": 3,
      "outputs": [
        {
          "output_type": "execute_result",
          "data": {
            "text/plain": [
              "'1.21.6'"
            ],
            "application/vnd.google.colaboratory.intrinsic+json": {
              "type": "string"
            }
          },
          "metadata": {},
          "execution_count": 3
        }
      ]
    },
    {
      "cell_type": "code",
      "source": [
        "np.random.rand(2,2)"
      ],
      "metadata": {
        "colab": {
          "base_uri": "https://localhost:8080/"
        },
        "id": "bN704po6o5Vq",
        "outputId": "2352ec51-e333-42cb-def1-5067cd3a41ad"
      },
      "execution_count": 8,
      "outputs": [
        {
          "output_type": "execute_result",
          "data": {
            "text/plain": [
              "array([[0.55933765, 0.59443687],\n",
              "       [0.15530909, 0.09238078]])"
            ]
          },
          "metadata": {},
          "execution_count": 8
        }
      ]
    },
    {
      "cell_type": "code",
      "source": [
        "import imageai"
      ],
      "metadata": {
        "colab": {
          "base_uri": "https://localhost:8080/",
          "height": 304
        },
        "id": "p9USxMNrqMAU",
        "outputId": "743f01ac-cdb0-48c5-fa80-dde5860bb2ca"
      },
      "execution_count": 9,
      "outputs": [
        {
          "output_type": "error",
          "ename": "ModuleNotFoundError",
          "evalue": "ignored",
          "traceback": [
            "\u001b[0;31m---------------------------------------------------------------------------\u001b[0m",
            "\u001b[0;31mModuleNotFoundError\u001b[0m                       Traceback (most recent call last)",
            "\u001b[0;32m<ipython-input-9-2cf5b4bddf56>\u001b[0m in \u001b[0;36m<module>\u001b[0;34m()\u001b[0m\n\u001b[0;32m----> 1\u001b[0;31m \u001b[0;32mimport\u001b[0m \u001b[0mimageai\u001b[0m\u001b[0;34m\u001b[0m\u001b[0;34m\u001b[0m\u001b[0m\n\u001b[0m",
            "\u001b[0;31mModuleNotFoundError\u001b[0m: No module named 'imageai'",
            "",
            "\u001b[0;31m---------------------------------------------------------------------------\u001b[0;32m\nNOTE: If your import is failing due to a missing package, you can\nmanually install dependencies using either !pip or !apt.\n\nTo view examples of installing some common dependencies, click the\n\"Open Examples\" button below.\n\u001b[0;31m---------------------------------------------------------------------------\u001b[0m\n"
          ],
          "errorDetails": {
            "actions": [
              {
                "action": "open_url",
                "actionText": "Open Examples",
                "url": "/notebooks/snippets/importing_libraries.ipynb"
              }
            ]
          }
        }
      ]
    },
    {
      "cell_type": "code",
      "source": [
        "!pip install imageai"
      ],
      "metadata": {
        "colab": {
          "base_uri": "https://localhost:8080/",
          "height": 1000
        },
        "id": "CtMFnvoWqUIV",
        "outputId": "6addfb49-dde4-4c5d-f881-662d8d0ea952"
      },
      "execution_count": 10,
      "outputs": [
        {
          "output_type": "stream",
          "name": "stdout",
          "text": [
            "Looking in indexes: https://pypi.org/simple, https://us-python.pkg.dev/colab-wheels/public/simple/\n",
            "Collecting imageai\n",
            "  Downloading imageai-2.1.6-py3-none-any.whl (160 kB)\n",
            "\u001b[K     |████████████████████████████████| 160 kB 8.4 MB/s \n",
            "\u001b[?25hCollecting pillow==7.0.0\n",
            "  Downloading Pillow-7.0.0-cp37-cp37m-manylinux1_x86_64.whl (2.1 MB)\n",
            "\u001b[K     |████████████████████████████████| 2.1 MB 65.2 MB/s \n",
            "\u001b[?25hCollecting numpy==1.19.3\n",
            "  Downloading numpy-1.19.3-cp37-cp37m-manylinux2010_x86_64.whl (14.9 MB)\n",
            "\u001b[K     |████████████████████████████████| 14.9 MB 43.1 MB/s \n",
            "\u001b[?25hRequirement already satisfied: opencv-python in /usr/local/lib/python3.7/dist-packages (from imageai) (4.6.0.66)\n",
            "Collecting keras-resnet==0.2.0\n",
            "  Downloading keras-resnet-0.2.0.tar.gz (9.3 kB)\n",
            "Collecting keras==2.4.3\n",
            "  Downloading Keras-2.4.3-py2.py3-none-any.whl (36 kB)\n",
            "Collecting scipy==1.4.1\n",
            "  Downloading scipy-1.4.1-cp37-cp37m-manylinux1_x86_64.whl (26.1 MB)\n",
            "\u001b[K     |████████████████████████████████| 26.1 MB 1.5 MB/s \n",
            "\u001b[?25hCollecting h5py==2.10.0\n",
            "  Downloading h5py-2.10.0-cp37-cp37m-manylinux1_x86_64.whl (2.9 MB)\n",
            "\u001b[K     |████████████████████████████████| 2.9 MB 38.9 MB/s \n",
            "\u001b[?25hCollecting matplotlib==3.3.2\n",
            "  Downloading matplotlib-3.3.2-cp37-cp37m-manylinux1_x86_64.whl (11.6 MB)\n",
            "\u001b[K     |████████████████████████████████| 11.6 MB 34.2 MB/s \n",
            "\u001b[?25hRequirement already satisfied: six in /usr/local/lib/python3.7/dist-packages (from h5py==2.10.0->imageai) (1.15.0)\n",
            "Requirement already satisfied: pyyaml in /usr/local/lib/python3.7/dist-packages (from keras==2.4.3->imageai) (3.13)\n",
            "Requirement already satisfied: python-dateutil>=2.1 in /usr/local/lib/python3.7/dist-packages (from matplotlib==3.3.2->imageai) (2.8.2)\n",
            "Requirement already satisfied: pyparsing!=2.0.4,!=2.1.2,!=2.1.6,>=2.0.3 in /usr/local/lib/python3.7/dist-packages (from matplotlib==3.3.2->imageai) (3.0.9)\n",
            "Requirement already satisfied: certifi>=2020.06.20 in /usr/local/lib/python3.7/dist-packages (from matplotlib==3.3.2->imageai) (2022.6.15)\n",
            "Requirement already satisfied: kiwisolver>=1.0.1 in /usr/local/lib/python3.7/dist-packages (from matplotlib==3.3.2->imageai) (1.4.4)\n",
            "Requirement already satisfied: cycler>=0.10 in /usr/local/lib/python3.7/dist-packages (from matplotlib==3.3.2->imageai) (0.11.0)\n",
            "Requirement already satisfied: typing-extensions in /usr/local/lib/python3.7/dist-packages (from kiwisolver>=1.0.1->matplotlib==3.3.2->imageai) (4.1.1)\n",
            "Building wheels for collected packages: keras-resnet\n",
            "  Building wheel for keras-resnet (setup.py) ... \u001b[?25l\u001b[?25hdone\n",
            "  Created wheel for keras-resnet: filename=keras_resnet-0.2.0-py2.py3-none-any.whl size=20486 sha256=8f6cbcd8a81fa75d584507dffcceaca7a7c84c2e4571a0f7258e55504987d33d\n",
            "  Stored in directory: /root/.cache/pip/wheels/bd/ef/06/5d65f696360436c3a423020c4b7fd8c558c09ef264a0e6c575\n",
            "Successfully built keras-resnet\n",
            "Installing collected packages: numpy, scipy, h5py, pillow, keras, matplotlib, keras-resnet, imageai\n",
            "  Attempting uninstall: numpy\n",
            "    Found existing installation: numpy 1.21.6\n",
            "    Uninstalling numpy-1.21.6:\n",
            "      Successfully uninstalled numpy-1.21.6\n",
            "  Attempting uninstall: scipy\n",
            "    Found existing installation: scipy 1.7.3\n",
            "    Uninstalling scipy-1.7.3:\n",
            "      Successfully uninstalled scipy-1.7.3\n",
            "  Attempting uninstall: h5py\n",
            "    Found existing installation: h5py 3.1.0\n",
            "    Uninstalling h5py-3.1.0:\n",
            "      Successfully uninstalled h5py-3.1.0\n",
            "  Attempting uninstall: pillow\n",
            "    Found existing installation: Pillow 7.1.2\n",
            "    Uninstalling Pillow-7.1.2:\n",
            "      Successfully uninstalled Pillow-7.1.2\n",
            "  Attempting uninstall: keras\n",
            "    Found existing installation: keras 2.8.0\n",
            "    Uninstalling keras-2.8.0:\n",
            "      Successfully uninstalled keras-2.8.0\n",
            "  Attempting uninstall: matplotlib\n",
            "    Found existing installation: matplotlib 3.2.2\n",
            "    Uninstalling matplotlib-3.2.2:\n",
            "      Successfully uninstalled matplotlib-3.2.2\n",
            "\u001b[31mERROR: pip's dependency resolver does not currently take into account all the packages that are installed. This behaviour is the source of the following dependency conflicts.\n",
            "xarray-einstats 0.2.2 requires numpy>=1.21, but you have numpy 1.19.3 which is incompatible.\n",
            "tensorflow 2.8.2+zzzcolab20220719082949 requires keras<2.9,>=2.8.0rc0, but you have keras 2.4.3 which is incompatible.\n",
            "tensorflow 2.8.2+zzzcolab20220719082949 requires numpy>=1.20, but you have numpy 1.19.3 which is incompatible.\n",
            "pymc3 3.11.5 requires scipy<1.8.0,>=1.7.3, but you have scipy 1.4.1 which is incompatible.\n",
            "jaxlib 0.3.14+cuda11.cudnn805 requires scipy>=1.5, but you have scipy 1.4.1 which is incompatible.\n",
            "jax 0.3.14 requires scipy>=1.5, but you have scipy 1.4.1 which is incompatible.\n",
            "cmdstanpy 1.0.4 requires numpy>=1.21, but you have numpy 1.19.3 which is incompatible.\n",
            "bokeh 2.3.3 requires pillow>=7.1.0, but you have pillow 7.0.0 which is incompatible.\u001b[0m\n",
            "Successfully installed h5py-2.10.0 imageai-2.1.6 keras-2.4.3 keras-resnet-0.2.0 matplotlib-3.3.2 numpy-1.19.3 pillow-7.0.0 scipy-1.4.1\n"
          ]
        },
        {
          "output_type": "display_data",
          "data": {
            "application/vnd.colab-display-data+json": {
              "pip_warning": {
                "packages": [
                  "PIL",
                  "matplotlib",
                  "mpl_toolkits",
                  "numpy"
                ]
              }
            }
          },
          "metadata": {}
        }
      ]
    },
    {
      "cell_type": "code",
      "source": [
        "import imageai"
      ],
      "metadata": {
        "id": "PKHI7KGuqaU6"
      },
      "execution_count": 11,
      "outputs": []
    },
    {
      "cell_type": "code",
      "source": [
        "import numpy as np"
      ],
      "metadata": {
        "id": "E8dT1HifqoVS"
      },
      "execution_count": 1,
      "outputs": []
    },
    {
      "cell_type": "markdown",
      "source": [
        "MarkDown"
      ],
      "metadata": {
        "id": "g8EzFSKUq3Xf"
      }
    },
    {
      "cell_type": "markdown",
      "source": [
        ">Python\n",
        ">>>Code\n",
        "\n",
        "[Google](http:www.Google.com)\n",
        "\n",
        "![python](https://logos-world.net/wp-content/uploads/2021/10/Python-Symbol.png)\n",
        "\n",
        "$ y = x^2 $\n",
        "\n",
        "$\\frac{1}{2} \\sum_{i=1}^{n}x_{i}$\n",
        "\n",
        "$ A = \\begin{pmatrix}\n",
        "a_{1,1} & a_{1,2} \\\\\n",
        "a_{2,1} & a_{2,2}\n",
        "\\end {pmatrix} $ \n",
        "\n",
        "\n",
        "Col1 |Col2 |col3\n",
        "--- |--- |---\n",
        "val1 |val2 |val3 \n",
        "\n",
        "\n",
        "**np.all** function\n"
      ],
      "metadata": {
        "id": "-1_PI2EerP6w"
      }
    },
    {
      "cell_type": "markdown",
      "source": [
        "###np all###\n",
        "*italicized text* function is to find logical and operation and return a boolean value axis 0 = comparing column and axis=1 row it return True if every element in array is non zero else vice versa\n"
      ],
      "metadata": {
        "id": "MYqls_OkozR4"
      }
    },
    {
      "cell_type": "code",
      "source": [
        "A = np.array([[3, 2, 1, 4],\n",
        "              [5, 2, 1, 6]])\n",
        " \n",
        "B = np.array([[3, 2, 1, 4],\n",
        "              [5, 2, 0, 6]])\n",
        " \n",
        "C = np.array([[True, False, False],\n",
        "              [True, True, True]])\n",
        " \n",
        "D = np.array([0.1, 0.3])\n",
        "\n",
        "for name, array in zip(list('ABCD'), [A, B, C, D]):\n",
        "    print(f'{name}: {np.all(array)}')\n",
        "\n",
        "\n",
        "\n"
      ],
      "metadata": {
        "colab": {
          "base_uri": "https://localhost:8080/"
        },
        "id": "mYvWBrTdqydK",
        "outputId": "f52b4c34-b419-48c9-ddf7-770af001691f"
      },
      "execution_count": 2,
      "outputs": [
        {
          "output_type": "stream",
          "name": "stdout",
          "text": [
            "A: True\n",
            "B: False\n",
            "C: False\n",
            "D: True\n"
          ]
        }
      ]
    },
    {
      "cell_type": "code",
      "source": [
        "print(np.all(A))\n",
        "print(np.all(B))\n",
        "print(np.all(B))\n",
        "print(np.all(D))"
      ],
      "metadata": {
        "colab": {
          "base_uri": "https://localhost:8080/"
        },
        "id": "j06_3FLKx7ti",
        "outputId": "1a01a8ad-6ed9-4739-e2bb-f7f1294e5c35"
      },
      "execution_count": 4,
      "outputs": [
        {
          "output_type": "stream",
          "name": "stdout",
          "text": [
            "True\n",
            "False\n",
            "False\n",
            "True\n"
          ]
        }
      ]
    },
    {
      "cell_type": "code",
      "source": [
        "print(np.all([[True,False],[True,False],[True,True],[True,False]],axis=-1))\n",
        "print(np.all([[True,True],[True,True],[True,True],[True,False]],axis=0))\n",
        "print(np.all([[True,False],[True,False],[True,True],[True,False]],axis=1))\n",
        "\n",
        "\n"
      ],
      "metadata": {
        "colab": {
          "base_uri": "https://localhost:8080/"
        },
        "id": "X9p5ir4Oz-MS",
        "outputId": "cdf23d39-b173-4db4-9718-da0bd87ce76a"
      },
      "execution_count": 5,
      "outputs": [
        {
          "output_type": "stream",
          "name": "stdout",
          "text": [
            "[False False  True False]\n",
            "[ True False]\n",
            "[False False  True False]\n"
          ]
        }
      ]
    },
    {
      "cell_type": "markdown",
      "source": [
        "###numpy.allclose###\n",
        "**numpy.allclose\n",
        "** *italicized text*Returns True if two arrays are element-wise equal within a tolerance.\n",
        "\n",
        "The tolerance values are positive, typically very small numbers. The relative difference (rtol * abs(b)) and the absolute difference atol are added together to compare against the absolute difference between a and b.\n",
        "\n",
        "NaNs are treated as equal if they are in the same place and if equal_nan=True. Infs are treated as equal if they are in the same place and of the same sign in both arrays."
      ],
      "metadata": {
        "id": "QlONnvUGHVuN"
      }
    },
    {
      "cell_type": "code",
      "source": [
        "  import numpy as np\n",
        "\n",
        "\n",
        "A = np.array([0.4, 0.5, 0.3])\n",
        "B = np.array([0.39999999, 0.5000001, 0.3])\n",
        "\n",
        "print(np.allclose(A,B))\n",
        "\n"
      ],
      "metadata": {
        "colab": {
          "base_uri": "https://localhost:8080/"
        },
        "id": "Siq_cuof0Bai",
        "outputId": "289783ba-7928-447c-fbe0-503b54dac16c"
      },
      "execution_count": 6,
      "outputs": [
        {
          "output_type": "stream",
          "name": "stdout",
          "text": [
            "True\n"
          ]
        }
      ]
    },
    {
      "cell_type": "markdown",
      "source": [
        "###Numpy.zeros###\n",
        "Return a new array of given shape and type, filled with zeros.\n",
        "\n",
        "Parameters\n",
        "shapeint or tuple of ints\n",
        "Shape of the new array, e.g., (2, 3) or 2.\n",
        "\n",
        "dtypedata-type, optional\n",
        "The desired data-type for the array, e.g., numpy.int8. Default is numpy.float64.\n",
        "\n",
        "order{‘C’, ‘F’}, optional, default: ‘C’\n",
        "Whether to store multi-dimensional data in row-major (C-style) or column-major (Fortran-style) order in memory.\n",
        "\n",
        "likearray_like, optional\n",
        "Reference object to allow the creation of arrays which are not NumPy arrays. If an array-like passed in as like supports the __array_function__ protocol, the result will be defined by it. In this case, it ensures the creation of an array object compatible with that passed in via this argument.\n",
        "\n"
      ],
      "metadata": {
        "id": "r8xb2tW6Ilcy"
      }
    },
    {
      "cell_type": "code",
      "source": [
        "print(np.zeros((4,4),dtype=int))\n"
      ],
      "metadata": {
        "colab": {
          "base_uri": "https://localhost:8080/"
        },
        "id": "031BhdP52ONe",
        "outputId": "20802362-164d-4b68-e2d1-b951eb0173f0"
      },
      "execution_count": 7,
      "outputs": [
        {
          "output_type": "stream",
          "name": "stdout",
          "text": [
            "[[0 0 0 0]\n",
            " [0 0 0 0]\n",
            " [0 0 0 0]\n",
            " [0 0 0 0]]\n"
          ]
        }
      ]
    },
    {
      "cell_type": "markdown",
      "source": [
        "**numpy.ful**l(shape, fill_value, dtype=None, order='C', *, like=None)[source]\n",
        "Return a new array of given shape and type, filled with fill_value.\n",
        "\n",
        "Parameters\n",
        "shapeint or sequence of ints\n",
        "Shape of the new array, e.g., (2, 3) or 2.\n",
        "\n",
        "fill_valuescalar or array_like\n",
        "Fill value.\n",
        "\n",
        "dtypedata-type, optional\n",
        "The desired data-type for the array The default, None, means\n",
        "np.array(fill_value).dtype.\n",
        "\n",
        "order{‘C’, ‘F’}, optional\n",
        "Whether to store multidimensional data in C- or Fortran-contiguous (row- or column-wise) order in memory.\n",
        "\n",
        "likearray_like, optional\n",
        "Reference object to allow the creation of arrays which are not NumPy arrays. If an array-like passed in as like supports the __array_function__ protocol, the result will be defined by it. In this case, it ensures the creation of an array object compatible with that passed in via this argument."
      ],
      "metadata": {
        "id": "u5sJ7cHvLsQT"
      }
    },
    {
      "cell_type": "code",
      "source": [
        "import numpy as np\n",
        " \n",
        " \n",
        "print(np.full(shape=(10, 10), fill_value=255, dtype='float'))\n",
        "\n"
      ],
      "metadata": {
        "colab": {
          "base_uri": "https://localhost:8080/"
        },
        "id": "ZiKyFTGSJqzV",
        "outputId": "adf48269-ffe1-413b-cd08-cc911b112daf"
      },
      "execution_count": 8,
      "outputs": [
        {
          "output_type": "stream",
          "name": "stdout",
          "text": [
            "[[255. 255. 255. 255. 255. 255. 255. 255. 255. 255.]\n",
            " [255. 255. 255. 255. 255. 255. 255. 255. 255. 255.]\n",
            " [255. 255. 255. 255. 255. 255. 255. 255. 255. 255.]\n",
            " [255. 255. 255. 255. 255. 255. 255. 255. 255. 255.]\n",
            " [255. 255. 255. 255. 255. 255. 255. 255. 255. 255.]\n",
            " [255. 255. 255. 255. 255. 255. 255. 255. 255. 255.]\n",
            " [255. 255. 255. 255. 255. 255. 255. 255. 255. 255.]\n",
            " [255. 255. 255. 255. 255. 255. 255. 255. 255. 255.]\n",
            " [255. 255. 255. 255. 255. 255. 255. 255. 255. 255.]\n",
            " [255. 255. 255. 255. 255. 255. 255. 255. 255. 255.]]\n"
          ]
        }
      ]
    },
    {
      "cell_type": "markdown",
      "source": [
        "###numpy.ones###\n",
        "numpy.ones(shape, dtype=None, order='C', *, like=None)***[source]\n",
        "Return a new array of given shape and type, filled with ones.\n",
        "\n",
        "Parameters\n",
        "shapeint or sequence of ints\n",
        "Shape of the new array, e.g., (2, 3) or 2.\n",
        "\n",
        "dtypedata-type, optional\n",
        "The desired data-type for the array, e.g., numpy.int8. Default is numpy.float64.\n",
        "\n",
        "order{‘C’, ‘F’}, optional, default: C\n",
        "Whether to store multi-dimensional data in row-major (C-style) or column-major (Fortran-style) order in memory.\n",
        "\n",
        "likearray_like, optional\n",
        "Reference object to allow the creation of arrays which are not NumPy arrays. If an array-like passed in as like supports the __array_function__ protocol, the result will be defined by it. In this case, it ensures the creation of an array object compatible with that passed in via this argument."
      ],
      "metadata": {
        "id": "HT9HaXLoMjkb"
      }
    },
    {
      "cell_type": "code",
      "source": [
        "#Alternative for above soltions\n",
        "import numpy as np\n",
        " \n",
        " \n",
        "print(np.ones(shape=(10, 10), dtype='float') * 255) #np.ones give matrix with given shape with 1 filled as element in every row and column"
      ],
      "metadata": {
        "colab": {
          "base_uri": "https://localhost:8080/"
        },
        "id": "PWXiQYKsMiLf",
        "outputId": "3c5d0f67-7406-4aec-b5fd-ba8a78ea8b19"
      },
      "execution_count": 9,
      "outputs": [
        {
          "output_type": "stream",
          "name": "stdout",
          "text": [
            "[[255. 255. 255. 255. 255. 255. 255. 255. 255. 255.]\n",
            " [255. 255. 255. 255. 255. 255. 255. 255. 255. 255.]\n",
            " [255. 255. 255. 255. 255. 255. 255. 255. 255. 255.]\n",
            " [255. 255. 255. 255. 255. 255. 255. 255. 255. 255.]\n",
            " [255. 255. 255. 255. 255. 255. 255. 255. 255. 255.]\n",
            " [255. 255. 255. 255. 255. 255. 255. 255. 255. 255.]\n",
            " [255. 255. 255. 255. 255. 255. 255. 255. 255. 255.]\n",
            " [255. 255. 255. 255. 255. 255. 255. 255. 255. 255.]\n",
            " [255. 255. 255. 255. 255. 255. 255. 255. 255. 255.]\n",
            " [255. 255. 255. 255. 255. 255. 255. 255. 255. 255.]]\n"
          ]
        }
      ]
    },
    {
      "cell_type": "markdown",
      "source": [
        "###numpy.arange###\n",
        "numpy.arange([start, ]stop, [step, ]dtype=None, *, like=None)\n",
        "Return evenly spaced values within a given interval.\n",
        "\n",
        "arange can be called with a varying number of positional arguments:\n",
        "\n",
        "arange(stop): Values are generated within the half-open interval [0, stop) (in other words, the interval including start but excluding stop).\n",
        "\n",
        "arange(start, stop): Values are generated within the half-open interval [start, stop).\n",
        "\n",
        "arange(start, stop, step) Values are generated within the half-open interval [start, stop), with spacing between values given by step.\n",
        "\n",
        "For integer arguments the function is roughly equivalent to the Python built-in range, but returns an ndarray rather than a range instance.\n",
        "\n",
        "When using a non-integer step, such as 0.1, it is often better to use numpy.linspace.\n",
        "\n",
        "See the Warning sections below for more information.\n",
        "\n",
        "Parameters\n",
        "startinteger or real, optional\n",
        "Start of interval. The interval includes this value. The default start value is 0.\n",
        "\n",
        "stopinteger or real\n",
        "End of interval. The interval does not include this value, except in some cases where step is not an integer and floating point round-off affects the length of out.\n",
        "\n",
        "stepinteger or real, optional\n",
        "Spacing between values. For any output out, this is the distance between two adjacent values, out[i+1] - out[i]. The default step size is 1. If step is specified as a position argument, start must also be given.\n",
        "\n",
        "dtypedtype, optional\n",
        "The type of the output array. If dtype is not given, infer the data type from the other input arguments.\n",
        "\n",
        "likearray_like, optional\n",
        "Reference object to allow the creation of arrays which are not NumPy arrays. If an array-like passed in as like supports the __array_function__ protocol, the result will be defined by it. In this case, it ensures the creation of an array object compatible with that passed in via this argument.\n",
        "\n",
        "\n",
        "__EXAMPLE__\n",
        ">np.arange(3)\n",
        ">>>array([0, 1, 2])\n",
        "\n",
        ">np.arange(3.0)\n",
        ">>>array([ 0.,  1.,  2.])\n",
        "\n",
        ">np.arange(3,7)\n",
        ">>>array([3, 4, 5, 6])\n",
        "\n",
        ">np.arange(3,7,2)\n",
        ">>>array([3, 5])"
      ],
      "metadata": {
        "id": "-6fFyLZlPJ-s"
      }
    },
    {
      "cell_type": "code",
      "source": [
        "print(np.arange(10,100))"
      ],
      "metadata": {
        "colab": {
          "base_uri": "https://localhost:8080/"
        },
        "id": "NA5VV9F1M6Yf",
        "outputId": "b03da2fa-bdb2-4be7-e6fc-481f7735a82c"
      },
      "execution_count": 10,
      "outputs": [
        {
          "output_type": "stream",
          "name": "stdout",
          "text": [
            "[10 11 12 13 14 15 16 17 18 19 20 21 22 23 24 25 26 27 28 29 30 31 32 33\n",
            " 34 35 36 37 38 39 40 41 42 43 44 45 46 47 48 49 50 51 52 53 54 55 56 57\n",
            " 58 59 60 61 62 63 64 65 66 67 68 69 70 71 72 73 74 75 76 77 78 79 80 81\n",
            " 82 83 84 85 86 87 88 89 90 91 92 93 94 95 96 97 98 99]\n"
          ]
        }
      ]
    },
    {
      "cell_type": "markdown",
      "source": [
        "###numpy.reshape(a, newshape, order='C')####\n",
        "This is used to reshape array \n",
        "a = array to be reshape \n",
        "new shape = specific shape u want\n"
      ],
      "metadata": {
        "id": "GfnWuYiAV7Hk"
      }
    },
    {
      "cell_type": "code",
      "source": [
        "print(np.reshape(np.arange(10,100),(9,10)))"
      ],
      "metadata": {
        "colab": {
          "base_uri": "https://localhost:8080/"
        },
        "id": "yYKsuOPsQIes",
        "outputId": "c6279a59-aab1-4fe7-f864-17e45728fe26"
      },
      "execution_count": 11,
      "outputs": [
        {
          "output_type": "stream",
          "name": "stdout",
          "text": [
            "[[10 11 12 13 14 15 16 17 18 19]\n",
            " [20 21 22 23 24 25 26 27 28 29]\n",
            " [30 31 32 33 34 35 36 37 38 39]\n",
            " [40 41 42 43 44 45 46 47 48 49]\n",
            " [50 51 52 53 54 55 56 57 58 59]\n",
            " [60 61 62 63 64 65 66 67 68 69]\n",
            " [70 71 72 73 74 75 76 77 78 79]\n",
            " [80 81 82 83 84 85 86 87 88 89]\n",
            " [90 91 92 93 94 95 96 97 98 99]]\n"
          ]
        }
      ]
    },
    {
      "cell_type": "markdown",
      "source": [
        "###numpy.eye###\n",
        "numpy.eye(N, M=None, k=0, dtype=<class 'float'>, order='C', *, like=None)###[source]\n",
        "\n",
        "Return a 2-D array with ones on the diagonal and zeros elsewhere.\n",
        "\n",
        "Parameters\n",
        "Nint\n",
        "Number of rows in the output.\n",
        "\n",
        "Mint, optional\n",
        "Number of columns in the output. If None, defaults to N.\n",
        "\n",
        "kint, optional\n",
        "Index of the diagonal: 0 (the default) refers to the main diagonal, a positive value refers to an upper diagonal, and a negative value to a lower diagonal.\n",
        "\n",
        "dtypedata-type, optional\n",
        "Data-type of the returned array.\n",
        "\n",
        "order{‘C’, ‘F’}, optional\n",
        "Whether the output should be stored in row-major (C-style) or column-major (Fortran-style) order in memory."
      ],
      "metadata": {
        "id": "H5VZU5-jWtk8"
      }
    },
    {
      "cell_type": "code",
      "source": [
        "print(np.eye(6,6,dtype=int))"
      ],
      "metadata": {
        "colab": {
          "base_uri": "https://localhost:8080/"
        },
        "id": "hjrb1PL_WQRJ",
        "outputId": "0b36ceac-898b-44a8-cae7-447b3ebebc55"
      },
      "execution_count": 10,
      "outputs": [
        {
          "output_type": "stream",
          "name": "stdout",
          "text": [
            "[[1 0 0 0 0 0]\n",
            " [0 1 0 0 0 0]\n",
            " [0 0 1 0 0 0]\n",
            " [0 0 0 1 0 0]\n",
            " [0 0 0 0 1 0]\n",
            " [0 0 0 0 0 1]]\n"
          ]
        }
      ]
    },
    {
      "cell_type": "markdown",
      "source": [
        "###numpy.random.rand###\n",
        "Parameters\n",
        "d0, d1, …, dnint, optional\n",
        "The dimensions of the returned array, must be non-negative. If no argument is given a single Python float is returned.\n",
        "\n",
        "Returns\n",
        "outndarray, shape (d0, d1, ..., dn)\n",
        "Random values.\n",
        "\n",
        ">>>np.random.rand(3,2)\n",
        ">>>array([[ 0.14022471,  0.96360618],  #random\n",
        ">>>>>>>  [ 0.37601032,  0.25528411],  #random\n",
        ">>>>>>>  [ 0.49313049,  0.94909878]]) #random\n",
        "\n",
        "\n",
        "#np.random.seed#\n",
        "\n",
        "The seed() method is used to initialize the random number generator.\n",
        "\n",
        "The random number generator needs a number to start with (a seed value), to be able to generate a random number.\n",
        "\n",
        "By default the random number generator uses the current system time.\n",
        "\n",
        "Use the seed() method to customize the start number of the random number generator.\n",
        "\n",
        "Specifying the seed value for example ***seed(10)*** this will give the same array whenever you try to input same array matrix and seed equal to 10 other wise it will take random numbers in matrix"
      ],
      "metadata": {
        "id": "LwU35KRlZTJo"
      }
    },
    {
      "cell_type": "code",
      "source": [
        "np.random.seed(10)\n",
        "print(np.random.rand(30))\n",
        "print(np.random.rand(10))"
      ],
      "metadata": {
        "colab": {
          "base_uri": "https://localhost:8080/"
        },
        "id": "QOaP0Th3Xb6q",
        "outputId": "6bd45d62-030c-477a-f64f-f5f403368fc4"
      },
      "execution_count": 16,
      "outputs": [
        {
          "output_type": "stream",
          "name": "stdout",
          "text": [
            "[0.07630829 0.77991879 0.43840923 0.72346518 0.97798951 0.53849587\n",
            " 0.50112046 0.07205113 0.26843898 0.4998825  0.67923    0.80373904\n",
            " 0.38094113 0.06593635 0.2881456  0.90959353 0.21338535 0.45212396\n",
            " 0.93120602 0.02489923 0.60054892 0.9501295  0.23030288 0.54848992\n",
            " 0.90912837 0.13316945 0.52341258 0.75040986 0.66901324 0.46775286]\n",
            "[0.20484909 0.49076589 0.37238469 0.47740115 0.36589039 0.83791799\n",
            " 0.76864751 0.31399468 0.57262533 0.27604905]\n"
          ]
        }
      ]
    },
    {
      "cell_type": "markdown",
      "source": [
        "\n",
        "\n",
        "###numpy.random.randn###\n",
        "random.randn(d0, d1, ..., dn)\n",
        "Return a sample (or samples) from the “standard normal” distribution.\n",
        "d0, d1, ..., dn : [int, optional]Dimension of the returned array we require, \n",
        "     If no argument is given a single Python float is returned.\n",
        "\n",
        "  __Return__ :- Array of defined shape, filled with random floating-point samples from \n",
        "the standard normal distribution.\n",
        "[What is Standard normal Distribution](https://www.youtube.com/watch?v=rzFX5NWojp0&ab_channel=StatQuestwithJoshStarmer)\n",
        "\n"
      ],
      "metadata": {
        "id": "89XHmKspi8UH"
      }
    },
    {
      "cell_type": "code",
      "source": [
        "import numpy as np\n",
        "np.random.seed(20)\n",
        "print(np.random.randn(10,4))"
      ],
      "metadata": {
        "colab": {
          "base_uri": "https://localhost:8080/"
        },
        "id": "dDcHJrqRap_J",
        "outputId": "8229feb9-809b-4816-b6c0-f648927a6c2b"
      },
      "execution_count": 2,
      "outputs": [
        {
          "output_type": "stream",
          "name": "stdout",
          "text": [
            "[[ 0.88389311  0.19586502  0.35753652 -2.34326191]\n",
            " [-1.08483259  0.55969629  0.93946935 -0.97848104]\n",
            " [ 0.50309684  0.40641447  0.32346101 -0.49341088]\n",
            " [-0.79201679 -0.84236793 -1.27950266  0.24571517]\n",
            " [-0.0441948   1.56763255  1.05110868  0.40636843]\n",
            " [-0.1686461  -3.18970279  1.12013226  1.33277821]\n",
            " [-0.24333877 -0.13003071 -0.10901737  1.55618644]\n",
            " [ 0.12877835 -2.06694872 -0.88549315 -1.10457948]\n",
            " [ 0.93286635  2.059838   -0.93493796 -1.61299022]\n",
            " [ 0.52706972 -1.55110074  0.32961334 -1.13652654]]\n"
          ]
        }
      ]
    },
    {
      "cell_type": "code",
      "source": [
        "sigma = np.sqrt(9)\n",
        "print(sigma)\n"
      ],
      "metadata": {
        "colab": {
          "base_uri": "https://localhost:8080/"
        },
        "id": "t8vx6906meNM",
        "outputId": "e1e4c7a3-4f07-4b45-958a-9684e9223c9f"
      },
      "execution_count": 4,
      "outputs": [
        {
          "output_type": "stream",
          "name": "stdout",
          "text": [
            "3.0\n"
          ]
        }
      ]
    },
    {
      "cell_type": "markdown",
      "source": [
        "NumPy package contains an iterator object numpy.nditer. It is an efficient multidimensional iterator object using which it is possible to iterate over an array. Each element of an array is visited using Python’s standard Iterator interface.\n",
        "\n",
        "###numpy.nditer###\n",
        "\n",
        "class numpy.nditer(op, flags=None, op_flags=None, op_dtypes=None, order='K', casting='safe', op_axes=None, itershape=None, buffersize=0)[source]\n",
        "\n",
        "[nditer](https://numpy.org/doc/stable/reference/generated/numpy.nditer.html?highlight=numpy%20nditer#numpy.nditer)\n",
        "\n",
        "nditer itterate over each and every element of array\n",
        "\n",
        "Parameters\n",
        "opndarray or sequence of array_like\n",
        "The array(s) to iterate over."
      ],
      "metadata": {
        "id": "mH1li37wojpQ"
      }
    },
    {
      "cell_type": "code",
      "source": [
        "import numpy as np\n",
        "A = np.array([[1, 4, 3],\n",
        "              [5, 2, 6]])\n",
        "              \n",
        "for i in np.nditer(A):\n",
        "    print(i)"
      ],
      "metadata": {
        "colab": {
          "base_uri": "https://localhost:8080/"
        },
        "id": "K4PE_GNQmmjB",
        "outputId": "cf6916db-5c90-43e8-ab40-b4b5edbef8e1"
      },
      "execution_count": 3,
      "outputs": [
        {
          "output_type": "stream",
          "name": "stdout",
          "text": [
            "1\n",
            "4\n",
            "3\n",
            "5\n",
            "2\n",
            "6\n"
          ]
        }
      ]
    },
    {
      "cell_type": "markdown",
      "source": [
        "###random.choice###\n",
        "\n",
        "random.choice(a, size=None, replace=True, p=None)\n",
        "a1-D array-like or int\n",
        "If an ndarray, a random sample is generated from its elements. If an int, the random sample is generated as if it were np.arange(a)\n",
        "\n",
        "sizeint or tuple of ints, optional\n",
        "Output shape. If the given shape is, e.g., (m, n, k), then m * n * k samples are drawn. Default is None, in which case a single value is returned.\n",
        "\n",
        "replaceboolean, optional\n",
        "Whether the sample is with or without replacement. Default is True, meaning that a value of a can be selected multiple times.\n",
        "\n",
        "p1-D array-like, optional\n",
        "The probabilities associated with each entry in a. If not given, the sample assumes a uniform distribution over all entries in a.\n"
      ],
      "metadata": {
        "id": "x0VL9OufrsA7"
      }
    },
    {
      "cell_type": "code",
      "source": [
        "np.random.seed(42)\n",
        "\n",
        "print(np.random.choice(range(1, 50), size=(2,3), replace=False))"
      ],
      "metadata": {
        "colab": {
          "base_uri": "https://localhost:8080/"
        },
        "id": "ivfN5eATpOcZ",
        "outputId": "3df51b7a-1c1b-46c6-a694-68f71a701738"
      },
      "execution_count": 6,
      "outputs": [
        {
          "output_type": "stream",
          "name": "stdout",
          "text": [
            "[[14 46 48]\n",
            " [45 18 28]]\n"
          ]
        }
      ]
    },
    {
      "cell_type": "markdown",
      "source": [
        "###numpy.diag###\n",
        "numpy.diag(v, k=0)[source]\n",
        "Extract a diagonal or construct a diagonal array.___\n",
        "\n",
        "See the more detailed documentation for numpy.diagonal if you use this function to extract a diagonal and wish to write to the resulting array; whether it returns a copy or a view depends on what version of numpy you are using.\n",
        "\n",
        "Parameters\n",
        "varray_like\n",
        "If v is a 2-D array, return a copy of its k-th diagonal. If v is a 1-D array, return a 2-D array with v on the k-th diagonal.\n",
        "\n",
        "kint, optional\n",
        "Diagonal in question. The default is 0. Use k>0 for diagonals above the main diagonal, and k<0 for diagonals below the main diagonal.\n",
        "\n",
        "Returns\n",
        "outndarray\n",
        "The extracted diagonal or constructed diagonal array."
      ],
      "metadata": {
        "id": "MjpHUAgStV_y"
      }
    },
    {
      "cell_type": "code",
      "source": [
        "print(np.diag(np.arange(2,6,1))) #Printing Elements from arange diagonally \n"
      ],
      "metadata": {
        "colab": {
          "base_uri": "https://localhost:8080/"
        },
        "id": "E5gdcEv-sDy0",
        "outputId": "749746c1-ac50-4f95-aa42-b56695891dcb"
      },
      "execution_count": 10,
      "outputs": [
        {
          "output_type": "stream",
          "name": "stdout",
          "text": [
            "[[2 0 0 0]\n",
            " [0 3 0 0]\n",
            " [0 0 4 0]\n",
            " [0 0 0 5]]\n"
          ]
        }
      ]
    },
    {
      "cell_type": "markdown",
      "source": [
        "###numpy.save###\n",
        "numpy.save(file, arr, allow_pickle=True, fix_imports=True)[source]\n",
        "Save an array to a binary file in NumPy .npy format.\n",
        "\n",
        "Parameters\n",
        "filefile, str, or pathlib.Path\n",
        "File or filename to which the data is saved. If file is a file-object, then the filename is unchanged. If file is a string or Path, a .npy extension will be appended to the filename if it does not already have one.\n",
        "\n",
        "arrarray_like\n",
        "Array data to be saved.\n",
        "\n",
        "allow_picklebool, optional\n",
        "Allow saving object arrays using Python pickles. Reasons for disallowing pickles include security (loading pickled data can execute arbitrary code) and portability (pickled objects may not be loadable on different Python installations, for example if the stored objects require libraries that are not available, and not all pickled data is compatible between Python 2 and Python 3). Default: True\n",
        "\n",
        "fix_importsbool, optional\n",
        "Only useful in forcing objects in object arrays on Python 3 to be pickled in a Python 2 compatible way. If fix_imports is True, pickle will try to map the new Python 3 names to the old module names used in Python 2, so that the pickle data stream is readable with Python 2\n",
        "\n",
        "\n",
        "###numpy.load(file, mmap_mode=None, allow_pickle=False, fix_imports=True, encoding='ASCII')###\n",
        " Numpy.load function is to load other file and use their function and variable in current program"
      ],
      "metadata": {
        "id": "a86vbwhkiayr"
      }
    },
    {
      "cell_type": "markdown",
      "source": [
        "###Numpy.load###\n",
        "numpy.load(file, mmap_mode=None, allow_pickle=False, fix_imports=True, encoding='ASCII')\n",
        " Numpy.load function is to load other file and use their function and variable in current program"
      ],
      "metadata": {
        "id": "6QfV_CApkGGW"
      }
    },
    {
      "cell_type": "code",
      "source": [
        "import numpy as np\n",
        "\n",
        "A =np.arange(12).reshape(3,4)\n",
        "np.save('array.npy',A)  #saving array name A in file name as \"array.npy\"\n",
        "\n",
        "B = np.load('array.npy') #Loading file \"array.npy and using its matrix A in new variable \"\n",
        "print(B)  \n"
      ],
      "metadata": {
        "colab": {
          "base_uri": "https://localhost:8080/"
        },
        "id": "k8KzFgWwtnU0",
        "outputId": "5603f5a0-6969-4f67-e8b0-58d7048b26e8"
      },
      "execution_count": 14,
      "outputs": [
        {
          "output_type": "stream",
          "name": "stdout",
          "text": [
            "[[ 0  1  2  3]\n",
            " [ 4  5  6  7]\n",
            " [ 8  9 10 11]]\n"
          ]
        }
      ]
    },
    {
      "cell_type": "markdown",
      "source": [
        "###Numpy.savetxt###\n",
        "numpy.savetxt(fname, X, fmt='%.18e', delimiter=' ', newline='\\n', header='', footer='', comments='# ', encoding=None)\n",
        "\n",
        "Save as txt file\n",
        "\n",
        "Parameters\n",
        "fnamefilename or file handle\n",
        "If the filename ends in .gz, the file is automatically saved in compressed gzip format. loadtxt understands gzipped files transparently.\n",
        "\n",
        "X1D or 2D array_like\n",
        "Data to be saved to a text file.\n",
        "\n",
        "fmtstr or sequence of strs, optional\n",
        "A single format (%10.5f), a sequence of formats, or a multi-format string, e.g. ‘Iteration %d – %10.5f’, in which case delimiter is ignored. For complex X, the legal options for fmt are:\n",
        "\n",
        "a single specifier, fmt=’%.4e’, resulting in numbers formatted like ‘ (%s+%sj)’ % (fmt, fmt)\n",
        "\n",
        "a full string specifying every real and imaginary part, e.g. ‘ %.4e %+.4ej %.4e %+.4ej %.4e %+.4ej’ for 3 columns\n",
        "\n",
        "a list of specifiers, one per column - in this case, the real and imaginary part must have separate specifiers, e.g. [‘%.3e + %.3ej’, ‘(%.15e%+.15ej)’] for 2 columns\n",
        "\n",
        "delimiterstr, optional\n",
        "String or character separating columns.\n",
        "\n",
        "newlinestr, optional\n",
        "String or character separating lines\n"
      ],
      "metadata": {
        "id": "ZLmdXWkXpPmj"
      }
    },
    {
      "cell_type": "markdown",
      "source": [
        "###Numpy.loadtxt###\n",
        "numpy.loadtxt(fname, dtype=<class 'float'>, comments='#', delimiter=None, converters=None, skiprows=0, usecols=None, unpack=False, ndmin=0, encoding='bytes', max_rows=None, *, quotechar=None, like=None)\n",
        "\n",
        "Load data from a text file.\n",
        "\n",
        "[Details of Numpy.loadtxt](https://numpy.org/doc/stable/reference/generated/numpy.loadtxt.html?highlight=numpy%20loadtxt#numpy.loadtxt)\n",
        "\n"
      ],
      "metadata": {
        "id": "-0WaL8dxpoRT"
      }
    },
    {
      "cell_type": "code",
      "source": [
        "import numpy as np\n",
        "\n",
        "A = np.arange(12).reshape(3,4)\n",
        "np.savetxt('array.txt',A)\n",
        "\n",
        "B = np.loadtxt('array.txt')\n",
        "print(B)"
      ],
      "metadata": {
        "colab": {
          "base_uri": "https://localhost:8080/"
        },
        "id": "28tN6E1bkSSP",
        "outputId": "0a636dc1-031d-4dce-be7c-f773bf244042"
      },
      "execution_count": 15,
      "outputs": [
        {
          "output_type": "stream",
          "name": "stdout",
          "text": [
            "[[ 0.  1.  2.  3.]\n",
            " [ 4.  5.  6.  7.]\n",
            " [ 8.  9. 10. 11.]]\n"
          ]
        }
      ]
    },
    {
      "cell_type": "markdown",
      "source": [
        "###ndarray.tolist()###\n",
        "\n",
        "Syntax:- ndarray.tolist()\n",
        "\n",
        "Convert NumPy array to list"
      ],
      "metadata": {
        "id": "_fDFSUXVsZus"
      }
    },
    {
      "cell_type": "code",
      "source": [
        "import numpy as np\n",
        "\n",
        "A = np.arange(12).reshape(3,4)\n",
        "\n",
        "B = np.ndarray.tolist(A)\n",
        "\n",
        "print(B)\n",
        "\n",
        "\n"
      ],
      "metadata": {
        "colab": {
          "base_uri": "https://localhost:8080/"
        },
        "id": "bSQgqqYYstRw",
        "outputId": "3a065cbb-2f49-4011-a3f5-b99c863d4170"
      },
      "execution_count": 11,
      "outputs": [
        {
          "output_type": "stream",
          "name": "stdout",
          "text": [
            "[[0, 1, 2, 3], [4, 5, 6, 7], [8, 9, 10, 11]]\n"
          ]
        }
      ]
    },
    {
      "cell_type": "markdown",
      "source": [
        "###Transpose Matrix###\n",
        "array_n[::-1]\n",
        "\n"
      ],
      "metadata": {
        "id": "e_hg-pNYpNRn"
      }
    },
    {
      "cell_type": "code",
      "source": [
        "import numpy as np \n",
        "\n",
        "A = np.arange(12).reshape(-1,4)\n",
        "\n",
        "print(A,\"\\n\",)\n",
        "print(\"----Transpose Matrix--------\",\"\\n\")\n",
        "print(A[::-1])"
      ],
      "metadata": {
        "colab": {
          "base_uri": "https://localhost:8080/"
        },
        "id": "IbhBwywH023b",
        "outputId": "dc6f11dd-c69b-4905-83ef-822bf7dbb673"
      },
      "execution_count": 13,
      "outputs": [
        {
          "output_type": "stream",
          "name": "stdout",
          "text": [
            "[[ 0  1  2  3]\n",
            " [ 4  5  6  7]\n",
            " [ 8  9 10 11]] \n",
            "\n",
            "----Transpose Matrix-------- \n",
            "\n",
            "[[ 8  9 10 11]\n",
            " [ 4  5  6  7]\n",
            " [ 0  1  2  3]]\n"
          ]
        }
      ]
    },
    {
      "cell_type": "code",
      "source": [
        "print(np.ones(shape=(4,4)))"
      ],
      "metadata": {
        "colab": {
          "base_uri": "https://localhost:8080/"
        },
        "id": "wzOcMpdC03av",
        "outputId": "6d1e2f5f-32fc-4640-a467-9d3fb1282e5a"
      },
      "execution_count": 14,
      "outputs": [
        {
          "output_type": "stream",
          "name": "stdout",
          "text": [
            "[[1. 1. 1. 1.]\n",
            " [1. 1. 1. 1.]\n",
            " [1. 1. 1. 1.]\n",
            " [1. 1. 1. 1.]]\n"
          ]
        }
      ]
    },
    {
      "cell_type": "markdown",
      "source": [
        "###Numpy.pad###\n",
        "Use to pad the matrix \n",
        "numpy.pad(array, pad_width, mode='constant', **kwargs)\n",
        "pad with surface around the matrix "
      ],
      "metadata": {
        "id": "Lv77yN1f9di8"
      }
    },
    {
      "cell_type": "code",
      "source": [
        "import numpy as np\n",
        "\n",
        "A = np.ones(shape=(4,4),dtype=float)\n",
        "print(np.pad(A, pad_width=2, constant_values=0))\n"
      ],
      "metadata": {
        "colab": {
          "base_uri": "https://localhost:8080/"
        },
        "id": "uxFbMSST52ec",
        "outputId": "3c2f7be9-cb36-42b7-b7d8-24080dc84237"
      },
      "execution_count": 15,
      "outputs": [
        {
          "output_type": "stream",
          "name": "stdout",
          "text": [
            "[[0. 0. 0. 0. 0. 0. 0. 0.]\n",
            " [0. 0. 0. 0. 0. 0. 0. 0.]\n",
            " [0. 0. 1. 1. 1. 1. 0. 0.]\n",
            " [0. 0. 1. 1. 1. 1. 0. 0.]\n",
            " [0. 0. 1. 1. 1. 1. 0. 0.]\n",
            " [0. 0. 1. 1. 1. 1. 0. 0.]\n",
            " [0. 0. 0. 0. 0. 0. 0. 0.]\n",
            " [0. 0. 0. 0. 0. 0. 0. 0.]]\n"
          ]
        }
      ]
    },
    {
      "cell_type": "markdown",
      "source": [
        "###Slice Operation###\n",
        "for Slicing an array we use \":\" \n",
        "the below example slice array \n",
        "using  row and column"
      ],
      "metadata": {
        "id": "QTy9TPPmDOHi"
      }
    },
    {
      "cell_type": "code",
      "source": [
        "import numpy as np\n",
        " \n",
        "A = np.zeros(shape=(6, 6), dtype='int')\n",
        "A[::2, ::2] = 10  # This will start with (::2)0 row and skip 1 move to 2nd row and (,::2) this will start from o column and skip the first move to 2nd make them equal to 10\n",
        "A[1::2, ::2] = 5 # This will start with (::2)0 row and skip 1 move to 2nd row and (,::2) this will start from o column and skip the first move to 2nd make them equal to 10\n",
        "print(A)\n"
      ],
      "metadata": {
        "colab": {
          "base_uri": "https://localhost:8080/"
        },
        "id": "pib0sOT-7Lm-",
        "outputId": "e901b8a5-1e22-4dba-a1b7-83e5560ac49d"
      },
      "execution_count": 16,
      "outputs": [
        {
          "output_type": "stream",
          "name": "stdout",
          "text": [
            "[[10  0 10  0 10  0]\n",
            " [ 5  0  5  0  5  0]\n",
            " [10  0 10  0 10  0]\n",
            " [ 5  0  5  0  5  0]\n",
            " [10  0 10  0 10  0]\n",
            " [ 5  0  5  0  5  0]]\n"
          ]
        }
      ]
    },
    {
      "cell_type": "markdown",
      "source": [
        "###Numpy.intersect1d###\n",
        "numpy.intersect1d(ar1, ar2, assume_unique=False, return_indices=False)\n",
        "return intersect elements from 2 array with sorted "
      ],
      "metadata": {
        "id": "VbpruAplE6fi"
      }
    },
    {
      "cell_type": "code",
      "source": [
        "import numpy as np\n",
        "\n",
        "A = np.arange(8).reshape(-1, 4)\n",
        "B = np.array([[9, 10, 11, 3],\n",
        "              [2, 8, 0, 9]])      \n",
        "\n",
        "print(np.intersect1d(A,B))\n"
      ],
      "metadata": {
        "colab": {
          "base_uri": "https://localhost:8080/"
        },
        "id": "g1-cmjcQ9Tng",
        "outputId": "3b3532dc-7259-4229-dfe2-0d57de844a49"
      },
      "execution_count": 17,
      "outputs": [
        {
          "output_type": "stream",
          "name": "stdout",
          "text": [
            "[0 2 3]\n"
          ]
        }
      ]
    },
    {
      "cell_type": "markdown",
      "source": [
        "###numpy.unique###\n",
        "numpy.unique(ar, return_index=False, return_inverse=False, return_counts=False, axis=None, *, equal_nan=True)\n",
        "\n",
        "unique elements means every element only once\n"
      ],
      "metadata": {
        "id": "w7PLkYkhK_nj"
      }
    },
    {
      "cell_type": "code",
      "source": [
        "import numpy as np\n",
        "\n",
        "\n",
        "np.random.seed(10)\n",
        "A = np.random.randint(low=1, high=10, size=(3, 5))\n",
        "print(A)\n",
        "\n",
        "print(np.unique(A))"
      ],
      "metadata": {
        "colab": {
          "base_uri": "https://localhost:8080/"
        },
        "id": "2DZCBOR2JTWA",
        "outputId": "329fb030-596c-4137-cd98-fe07e225341c"
      },
      "execution_count": 64,
      "outputs": [
        {
          "output_type": "stream",
          "name": "stdout",
          "text": [
            "[[5 1 2 1 2]\n",
            " [9 1 9 7 5]\n",
            " [4 1 5 7 9]]\n",
            "[1 2 4 5 7 9]\n"
          ]
        }
      ]
    },
    {
      "cell_type": "markdown",
      "source": [
        "###Numpy.argmax###\n",
        "numpy.all(a, axis=None, out=None, keepdims=<no value>, *, where=<no value>)\n",
        "Returns the indices (index) of the maximum values along an axis.\n",
        "\n"
      ],
      "metadata": {
        "id": "wvuhMOLKN7Hs"
      }
    },
    {
      "cell_type": "code",
      "source": [
        "import numpy as np\n",
        "\n",
        "A = np.array([[0.4, 0.3, 0.3],\n",
        "              [0.1, 0.1, 0.8],\n",
        "              [0.2, 0.5, 0.3]])\n",
        "print(np.argmax(A,axis=1)) #in first row o.4 is max value i.e on 0th postion and same for Further."
      ],
      "metadata": {
        "colab": {
          "base_uri": "https://localhost:8080/"
        },
        "id": "RctHVV5uLhFf",
        "outputId": "bad53775-7d0f-4417-81ec-7d9ee8a8fba2"
      },
      "execution_count": 18,
      "outputs": [
        {
          "output_type": "stream",
          "name": "stdout",
          "text": [
            "[0 2 1]\n"
          ]
        }
      ]
    },
    {
      "cell_type": "markdown",
      "source": [
        "###np.sort###\n",
        "numpy.sort(arr_name,axes=0:colm,1:row)\n"
      ],
      "metadata": {
        "id": "dvPYuYrV3brm"
      }
    },
    {
      "cell_type": "code",
      "source": [
        "import numpy as np\n",
        "\n",
        "\n",
        "A = np.array([[4.99, 3.49, 9.99],\n",
        "              [1.99, 9.99, 4.99],\n",
        "              [14.99, 2.39, 7.29]])\n",
        "              \n",
        "print(np.sort(A,0)) #Column Sorting\n",
        "print(np.sort(A,1)) #Row Sorting"
      ],
      "metadata": {
        "colab": {
          "base_uri": "https://localhost:8080/"
        },
        "id": "bhKByHYUNrFV",
        "outputId": "bef11f8c-4c93-47b5-b327-0dbf14f5a03d"
      },
      "execution_count": 20,
      "outputs": [
        {
          "output_type": "stream",
          "name": "stdout",
          "text": [
            "[[ 1.99  2.39  4.99]\n",
            " [ 4.99  3.49  7.29]\n",
            " [14.99  9.99  9.99]]\n",
            "[[ 3.49  4.99  9.99]\n",
            " [ 1.99  4.99  9.99]\n",
            " [ 2.39  7.29 14.99]]\n"
          ]
        }
      ]
    },
    {
      "cell_type": "code",
      "source": [
        "import numpy as np\n",
        "\n",
        "\n",
        "A = np.array([[4.99, 3.49, 9.99],\n",
        "              [1.99, 9.99, 4.99],\n",
        "              [14.99, 2.39, 7.29]])\n",
        "              \n",
        "print(A[A > 8])\n",
        "\n"
      ],
      "metadata": {
        "colab": {
          "base_uri": "https://localhost:8080/"
        },
        "id": "iwr5jZes3M1e",
        "outputId": "acc9e5d7-a620-4b29-9fe7-974bb6b7732f"
      },
      "execution_count": 22,
      "outputs": [
        {
          "output_type": "stream",
          "name": "stdout",
          "text": [
            "[ 9.99  9.99 14.99]\n"
          ]
        }
      ]
    },
    {
      "cell_type": "markdown",
      "source": [
        "###Np.where###\n",
        " \n",
        " numpy.where(condition, [x, y, ]/)\n",
        "\n",
        " Return elements chosen from x or y depending on condition.\n",
        "\n"
      ],
      "metadata": {
        "id": "6bgNKsvo7wG2"
      }
    },
    {
      "cell_type": "code",
      "source": [
        "import numpy as np\n",
        "\n",
        "\n",
        "A = np.array([[4.99, 3.49, 9.99],\n",
        "              [1.99, 9.99, 14.99],\n",
        "              [14.99, 2.39, 7.29]])\n",
        "              \n",
        "print(np.where(A<10,A,10))"
      ],
      "metadata": {
        "colab": {
          "base_uri": "https://localhost:8080/"
        },
        "id": "owf1IlGh4wjl",
        "outputId": "f2007f07-b792-4b7d-a679-25508a756e63"
      },
      "execution_count": 23,
      "outputs": [
        {
          "output_type": "stream",
          "name": "stdout",
          "text": [
            "[[ 4.99  3.49  9.99]\n",
            " [ 1.99  9.99 10.  ]\n",
            " [10.    2.39  7.29]]\n"
          ]
        }
      ]
    },
    {
      "cell_type": "markdown",
      "source": [
        "###Numpy.ravel###\n",
        "numpy.ravel(a, order='C') \n",
        "\n",
        "Return a contiguous flattened array.\n",
        "\n",
        "\n",
        "aarray_like\n",
        "Input array. The elements in a are read in the order specified by order, and packed as a 1-D array.\n",
        "\n",
        "order{‘C’,’F’, ‘A’, ‘K’}, optional\n",
        "The elements of a are read using this index order. ‘C’ means to index the elements in row-major, C-style order, with the last axis index changing fastest, back to the first axis index changing slowest. ‘F’ means to index the elements in column-major, Fortran-style order, with the first index changing fastest, and the last index changing slowest. Note that the ‘C’ and ‘F’ options take no account of the memory layout of the underlying array, and only refer to the order of axis indexing. ‘A’ means to read the elements in Fortran-like index order if a is Fortran contiguous in memory, C-like order otherwise. ‘K’ means to read the elements in the order they occur in memory, except for reversing the data when strides are negative. By default, ‘C’ index order is used.\n",
        "\n"
      ],
      "metadata": {
        "id": "HwuZ9iwuENu3"
      }
    },
    {
      "cell_type": "code",
      "source": [
        "import numpy as np\n",
        "\n",
        "\n",
        "A = np.array([[4.99, 3.49, 9.99],\n",
        "              [1.99, 9.99, 14.99],\n",
        "              [14.99, 2.39, 7.29]])\n",
        "              \n",
        "print(np.ravel(A)) #return array in list form"
      ],
      "metadata": {
        "colab": {
          "base_uri": "https://localhost:8080/"
        },
        "id": "QAioRppf6p6_",
        "outputId": "90755c26-fa40-4bc8-ba4a-bb4626d381ae"
      },
      "execution_count": 24,
      "outputs": [
        {
          "output_type": "stream",
          "name": "stdout",
          "text": [
            "[ 4.99  3.49  9.99  1.99  9.99 14.99 14.99  2.39  7.29]\n"
          ]
        }
      ]
    },
    {
      "cell_type": "markdown",
      "source": [
        "###Numpy.zeros_like###\n",
        "\n",
        "numpy.zeros_like(a, dtype=None, order='K', subok=True, shape=None)\n",
        "\n",
        "Return an array of zeros with the same shape and type as a given array."
      ],
      "metadata": {
        "id": "ERzYaTLcE0cg"
      }
    },
    {
      "cell_type": "code",
      "source": [
        "import numpy as np\n",
        "\n",
        "\n",
        "A = np.array([[4.99, 3.49, 9.99],\n",
        "              [1.99, 9.99, 14.99],\n",
        "              [14.99, 2.39, 7.29]])\n",
        "              \n",
        "print(np.zeros_like(A))"
      ],
      "metadata": {
        "colab": {
          "base_uri": "https://localhost:8080/"
        },
        "id": "uEpTfyiSD_tW",
        "outputId": "b5890bfc-4433-4dd2-dedb-d755a50ffc2a"
      },
      "execution_count": 26,
      "outputs": [
        {
          "output_type": "stream",
          "name": "stdout",
          "text": [
            "[[0. 0. 0.]\n",
            " [0. 0. 0.]\n",
            " [0. 0. 0.]]\n"
          ]
        }
      ]
    },
    {
      "cell_type": "markdown",
      "source": [
        "###Numpy.full_like###\n",
        "\n",
        "Return a full array with the same shape and type as a given array.\n",
        "\n"
      ],
      "metadata": {
        "id": "VUKS83Q0FmeN"
      }
    },
    {
      "cell_type": "code",
      "source": [
        "import numpy as np\n",
        "\n",
        "\n",
        "A = np.array([[4.99, 3.49, 9.99],\n",
        "              [1.99, 9.99, 14.99],\n",
        "              [14.99, 2.39, 7.29]])\n",
        "              \n",
        "print(np.full_like(A,9.99))"
      ],
      "metadata": {
        "id": "5kXjmNI0FIaQ",
        "outputId": "275e1fe7-1d1d-4682-de55-47edbe347584",
        "colab": {
          "base_uri": "https://localhost:8080/"
        }
      },
      "execution_count": 27,
      "outputs": [
        {
          "output_type": "stream",
          "name": "stdout",
          "text": [
            "[[9.99 9.99 9.99]\n",
            " [9.99 9.99 9.99]\n",
            " [9.99 9.99 9.99]]\n"
          ]
        }
      ]
    },
    {
      "cell_type": "markdown",
      "source": [
        "###numpy.tri###\n",
        "\n",
        "numpy.tri(N, M=None, k=0, dtype=<class 'float'>, *, like=None)[source]\n",
        "An array with ones at and below the given diagonal and zeros elsewhere.\n",
        "\n",
        "Parameters\n",
        "Nint\n",
        "Number of rows in the array.\n",
        "\n",
        "Mint, optional\n",
        "Number of columns in the array. By default, M is taken equal to N.\n",
        "\n",
        "kint, optional\n",
        "The sub-diagonal at and below which the array is filled. k = 0 is the main diagonal, while k < 0 is below it, and k > 0 is above. The default is 0.\n",
        "\n",
        "dtypedtype, optional\n",
        "Data type of the returned array. The default is float."
      ],
      "metadata": {
        "id": "vr7TLvALG_if"
      }
    },
    {
      "cell_type": "code",
      "source": [
        "import numpy as np\n",
        "\n",
        "print(np.tri(5,5,0))"
      ],
      "metadata": {
        "id": "VzCUvRffFWrr",
        "outputId": "9cf1a023-9397-42af-fdc7-4bb38d324b23",
        "colab": {
          "base_uri": "https://localhost:8080/"
        }
      },
      "execution_count": 28,
      "outputs": [
        {
          "output_type": "stream",
          "name": "stdout",
          "text": [
            "[[1. 0. 0. 0. 0.]\n",
            " [1. 1. 0. 0. 0.]\n",
            " [1. 1. 1. 0. 0.]\n",
            " [1. 1. 1. 1. 0.]\n",
            " [1. 1. 1. 1. 1.]]\n"
          ]
        }
      ]
    },
    {
      "cell_type": "markdown",
      "source": [
        "###Random integer or Array###\n",
        "\n"
      ],
      "metadata": {
        "id": "Vrn4pWBVH5Yu"
      }
    },
    {
      "cell_type": "code",
      "source": [
        "import numpy as np \n",
        "\n",
        "image = np.random.randint(\n",
        "    low=0, \n",
        "    high=256, \n",
        "    size=(200, 300), \n",
        "    dtype=np.uint8\n",
        ")\n",
        "\n",
        "print(image)"
      ],
      "metadata": {
        "id": "dxgSmKINGWoE",
        "outputId": "a3e2a839-dc01-467a-d716-07386158bd7f",
        "colab": {
          "base_uri": "https://localhost:8080/"
        }
      },
      "execution_count": 29,
      "outputs": [
        {
          "output_type": "stream",
          "name": "stdout",
          "text": [
            "[[249 167 170 ... 188 154   3]\n",
            " [138  20 194 ...  38  45  74]\n",
            " [242 108 221 ... 184  57 105]\n",
            " ...\n",
            " [180  55 112 ... 143 189 122]\n",
            " [ 21  11 118 ... 244 248 221]\n",
            " [219  87 125 ... 245 135 179]]\n"
          ]
        }
      ]
    },
    {
      "cell_type": "markdown",
      "source": [
        "###Numpy.sort###\n",
        "\n",
        "Numpy.sort(a, axis=- 1, kind=None, order=None)\n",
        "Return a sorted copy of an array."
      ],
      "metadata": {
        "id": "AiY08ZSPIUOv"
      }
    },
    {
      "cell_type": "code",
      "source": [
        "import numpy as np\n",
        "\n",
        "np.random.seed(10)\n",
        "image = np.random.randint(low=0, high=256, size=(3, 5), dtype=np.uint8)\n",
        "\n",
        "image_sorted = np.sort(image)\n",
        "\n",
        "print(image,\"\\n\")\n",
        "print(\"Sorted Matrix below\",\"\\n\")\n",
        "print(image_sorted)"
      ],
      "metadata": {
        "id": "ncovMjiZHzET",
        "outputId": "e140eeb1-482a-4e37-9a71-3e213756818f",
        "colab": {
          "base_uri": "https://localhost:8080/"
        }
      },
      "execution_count": 30,
      "outputs": [
        {
          "output_type": "stream",
          "name": "stdout",
          "text": [
            "[[  9  69 117 197 125]\n",
            " [156 123  76 228 255]\n",
            " [ 79   5  15 114 157]] \n",
            "\n",
            "Sorted Matrix below \n",
            "\n",
            "[[  9  69 117 125 197]\n",
            " [ 76 123 156 228 255]\n",
            " [  5  15  79 114 157]]\n"
          ]
        }
      ]
    },
    {
      "cell_type": "markdown",
      "source": [
        "###np.expand_dims###\n",
        "\n",
        "numpy.expand_dims(a, axis)\n",
        "\n",
        "Expand the shape of an array. \n",
        "\n",
        "Insert a new axis that will appear at the axis position in the expanded array shape.\n",
        "\n",
        "\n",
        "\n"
      ],
      "metadata": {
        "id": "QwYGtYFQXMP5"
      }
    },
    {
      "cell_type": "code",
      "source": [
        "import numpy as np\n",
        "\n",
        "\n",
        "A = np.array([[4, 2, 1],\n",
        "              [6, 4, 2]])\n",
        "              \n",
        "print(A.shape)\n",
        "A = np.expand_dims(A,axis=(1,3))#this implies the axis start from index 1 and till index 2\n",
        "print(A.shape)"
      ],
      "metadata": {
        "id": "hkd-hfSuIeSL",
        "outputId": "cc4937a0-fc12-4f23-872c-12d6cb0b95f1",
        "colab": {
          "base_uri": "https://localhost:8080/"
        }
      },
      "execution_count": 61,
      "outputs": [
        {
          "output_type": "stream",
          "name": "stdout",
          "text": [
            "(2, 3)\n",
            "(2, 1, 3, 1)\n"
          ]
        }
      ]
    },
    {
      "cell_type": "code",
      "source": [
        "import numpy as np\n",
        "\n",
        "\n",
        "image = np.random.randint(low=0, high=256, size=(200, 300, 3), dtype=np.uint8)\n",
        "\n",
        "image_extended = np.expand_dims(image,0)\n",
        "\n",
        "print(image_extended.shape)\n"
      ],
      "metadata": {
        "id": "IuWLNEFgYLn_",
        "outputId": "10602de8-05bf-401c-d8e6-358219b3662a",
        "colab": {
          "base_uri": "https://localhost:8080/"
        }
      },
      "execution_count": 64,
      "outputs": [
        {
          "output_type": "stream",
          "name": "stdout",
          "text": [
            "(1, 200, 300, 3)\n"
          ]
        }
      ]
    },
    {
      "cell_type": "markdown",
      "source": [
        "###Numpy.append###\n",
        "numpy.append(arr, values, axis=None)\n",
        "Append values to the end of an array.\n",
        "\n",
        "\n",
        "arrarray_like\n",
        "Values are appended to a copy of this array.\n",
        "\n",
        "valuesarray_like\n",
        "These values are appended to a copy of arr. It must be of the correct shape (the same shape as arr, excluding axis). If axis is not specified, values can be any shape and will be flattened before use.\n",
        "\n",
        "axisint, optional\n",
        "The axis along which values are appended. If axis is not given, both arr and values are flattened before use.\n"
      ],
      "metadata": {
        "id": "-iR-CnP3sIPx"
      }
    },
    {
      "cell_type": "code",
      "source": [
        "import numpy as np\n",
        "\n",
        "\n",
        "image1 = np.random.randint(low=0, high=256, size=(200, 300, 3), dtype=np.uint8)\n",
        "image2 = np.random.randint(low=0, high=256, size=(200, 300, 3), dtype=np.uint8)\n",
        "\n",
        "image1 = np.expand_dims(image1,0)\n",
        "image2 = np.expand_dims(image2,axis=0)\n",
        "\n",
        "images = np.append(image1,image2,0)\n",
        "print(images.shape)"
      ],
      "metadata": {
        "id": "C204mcqkqDNp",
        "outputId": "0dbe67e4-53b6-4cef-854c-15b876e1ce7f",
        "colab": {
          "base_uri": "https://localhost:8080/"
        }
      },
      "execution_count": 78,
      "outputs": [
        {
          "output_type": "stream",
          "name": "stdout",
          "text": [
            "(2, 200, 300, 3)\n"
          ]
        }
      ]
    },
    {
      "cell_type": "markdown",
      "source": [
        "###Numpy.squeeze###\n",
        "\n",
        "numpy.squeeze(a, axis=None)\n",
        "\n",
        "aarray_like\n",
        "Input data.\n",
        "\n",
        "axisNone or int or tuple of ints, optional\n",
        "New in version 1.7.0.\n",
        "\n",
        "Selects a subset of the entries of length one in the shape. If an axis is selected with shape entry greater than one, an error is raised.\n",
        "\n"
      ],
      "metadata": {
        "id": "QYVZFXERuUS8"
      }
    },
    {
      "cell_type": "code",
      "source": [
        "import numpy as np\n",
        "\n",
        "\n",
        "A = np.array([[[1, 2, 3],\n",
        "               [6, 3, 2]]])\n",
        "               \n",
        "print(np.squeeze(A,0)) #this will be squeeze array A with 0\n"
      ],
      "metadata": {
        "id": "3_sPEHXhsarn",
        "outputId": "87aa4965-59e2-419c-8a3e-68f47c08436d",
        "colab": {
          "base_uri": "https://localhost:8080/"
        }
      },
      "execution_count": 83,
      "outputs": [
        {
          "output_type": "stream",
          "name": "stdout",
          "text": [
            "[[1 2 3]\n",
            " [6 3 2]]\n"
          ]
        }
      ]
    },
    {
      "cell_type": "code",
      "source": [
        "import numpy as np\n",
        "\n",
        "\n",
        "A = np.array([[0.4],\n",
        "              [0.9],\n",
        "              [0.5],\n",
        "              [0.6]])\n",
        "              \n",
        "              \n",
        "print(np.squeeze(A,axis=1)) #flatten row in column squeeze"
      ],
      "metadata": {
        "id": "XRjbrKDzs-on",
        "outputId": "df65a7cd-4cb1-4ad2-9607-7118feddb8cd",
        "colab": {
          "base_uri": "https://localhost:8080/"
        }
      },
      "execution_count": 84,
      "outputs": [
        {
          "output_type": "stream",
          "name": "stdout",
          "text": [
            "[0.4 0.9 0.5 0.6]\n"
          ]
        }
      ]
    },
    {
      "cell_type": "markdown",
      "source": [
        "###slicing array###"
      ],
      "metadata": {
        "id": "2QCa1SIDHfq2"
      }
    },
    {
      "cell_type": "code",
      "source": [
        "import numpy as np\n",
        "\n",
        "\n",
        "A = np.arange(12, dtype='int').reshape(-1, 4)\n",
        "\n",
        "print(A)\n",
        "print(\"\\n\")\n",
        "print(A[:,::-1])  # Bring last column to first\n",
        "print(\"\\n\")\n",
        "print(A[::-1,:])  # Bring last row on the top \n",
        "print(\"\\n\")\n",
        "print(A[::-1,::-1]) #bring last column and last row in front \n",
        "\n"
      ],
      "metadata": {
        "id": "sYPXEJp7uEzo",
        "outputId": "0d92badb-244c-4f54-f99d-6afab9de4083",
        "colab": {
          "base_uri": "https://localhost:8080/"
        }
      },
      "execution_count": 12,
      "outputs": [
        {
          "output_type": "stream",
          "name": "stdout",
          "text": [
            "[[ 0  1  2  3]\n",
            " [ 4  5  6  7]\n",
            " [ 8  9 10 11]]\n",
            "\n",
            "\n",
            "[[ 3  2  1  0]\n",
            " [ 7  6  5  4]\n",
            " [11 10  9  8]]\n",
            "\n",
            "\n",
            "[[ 8  9 10 11]\n",
            " [ 4  5  6  7]\n",
            " [ 0  1  2  3]]\n",
            "\n",
            "\n",
            "[[11 10  9  8]\n",
            " [ 7  6  5  4]\n",
            " [ 3  2  1  0]]\n"
          ]
        }
      ]
    },
    {
      "cell_type": "markdown",
      "source": [
        "Q.Extract the first channel (index 0) of this image array and print it to the console.\n",
        "\n"
      ],
      "metadata": {
        "id": "OtLGsTNsJhar"
      }
    },
    {
      "cell_type": "code",
      "source": [
        "import numpy as np\n",
        " \n",
        " \n",
        "np.random.seed(42)\n",
        " \n",
        "image = np.random.randint(\n",
        "    low=0, \n",
        "    high=256, \n",
        "    size=(1, 3, 3), \n",
        "    dtype=np.uint8\n",
        ")\n",
        "\n",
        "print(image)\n",
        "print(\"\\n\")\n",
        "print(image[:, :, 0])"
      ],
      "metadata": {
        "id": "kJj8QhtqvLN1",
        "outputId": "08ea635a-8311-4e30-bb57-f1bfaf1df641",
        "colab": {
          "base_uri": "https://localhost:8080/"
        }
      },
      "execution_count": 18,
      "outputs": [
        {
          "output_type": "stream",
          "name": "stdout",
          "text": [
            "[[[102 220 225]\n",
            "  [ 95 179  61]\n",
            "  [234 203  92]]]\n",
            "\n",
            "\n",
            "[[102  95 234]]\n"
          ]
        }
      ]
    },
    {
      "cell_type": "markdown",
      "source": [
        "Q.Extract any array of shape (5, 5, 3) from this array and assign to the result variable.\n",
        "\n"
      ],
      "metadata": {
        "id": "AGlwsWpfKmLR"
      }
    },
    {
      "cell_type": "code",
      "source": [
        "import numpy as np\n",
        "\n",
        "\n",
        "image = np.random.randint(low=0, high=256, size=(10, 10, 3), dtype=np.uint8)\n",
        "result = image[:5,:5,:]\n",
        "print(result)"
      ],
      "metadata": {
        "id": "kHjAoOhLIjdh",
        "outputId": "1d13945d-403c-47b6-8f6f-a6b2f88aa745",
        "colab": {
          "base_uri": "https://localhost:8080/"
        }
      },
      "execution_count": 21,
      "outputs": [
        {
          "output_type": "stream",
          "name": "stdout",
          "text": [
            "[[[122  49  32]\n",
            "  [155   4 151]\n",
            "  [244  18 233]\n",
            "  [ 13  34 237]\n",
            "  [230 104 196]]\n",
            "\n",
            " [[244 220 200]\n",
            "  [ 32 156 217]\n",
            "  [ 71 119 144]\n",
            "  [159  11  51]\n",
            "  [ 15 115 161]]\n",
            "\n",
            " [[150 137 156]\n",
            "  [ 79  61  46]\n",
            "  [ 57 171 215]\n",
            "  [ 54  63  83]\n",
            "  [ 36 227 121]]\n",
            "\n",
            " [[ 84  70 218]\n",
            "  [ 95  32 227]\n",
            "  [ 34 166 173]\n",
            "  [143 192  19]\n",
            "  [227 120 226]]\n",
            "\n",
            " [[130 106  82]\n",
            "  [217   0 207]\n",
            "  [194 194   4]\n",
            "  [ 68 195 184]\n",
            "  [217 220 175]]]\n"
          ]
        }
      ]
    },
    {
      "cell_type": "markdown",
      "source": [
        "###Numpy.concatenate###\n",
        "numpy.concatenate((a1, a2, ...), axis=0, out=None, dtype=None, casting=\"same_kind\")\n",
        "\n",
        "Join a sequence of arrays along an existing axis.\n",
        "\n",
        "\n"
      ],
      "metadata": {
        "id": "Dpk2IbpQMnGf"
      }
    },
    {
      "cell_type": "code",
      "source": [
        "import numpy as np\n",
        "\n",
        "\n",
        "A = np.array([[3, 4, 5],\n",
        "              [8, 3, 1]])\n",
        "B = np.array([[0, 5, 2],\n",
        "              [4, 2, 1]])\n",
        "              \n",
        "print(np.concatenate((A, B), axis=0))"
      ],
      "metadata": {
        "id": "yIZdNcHGKPzo",
        "outputId": "53566063-cfad-42fb-d803-a1e22f183e82",
        "colab": {
          "base_uri": "https://localhost:8080/"
        }
      },
      "execution_count": 22,
      "outputs": [
        {
          "output_type": "stream",
          "name": "stdout",
          "text": [
            "[[3 4 5]\n",
            " [8 3 1]\n",
            " [0 5 2]\n",
            " [4 2 1]]\n"
          ]
        }
      ]
    },
    {
      "cell_type": "code",
      "source": [
        "import numpy as np\n",
        "\n",
        "\n",
        "data = np.array([[4.3, 4.2],\n",
        "                 [3.1, 3.6]])\n",
        "target = np.array([[0],\n",
        "                   [1]])\n",
        "                   \n",
        "            \n",
        "print(np.concatenate((data,target),axis=1,dtype=float))"
      ],
      "metadata": {
        "id": "uoJ-A8OuM2GW",
        "outputId": "0a88525c-30ab-41c2-c5dc-a88fb1ed5b90",
        "colab": {
          "base_uri": "https://localhost:8080/"
        }
      },
      "execution_count": 25,
      "outputs": [
        {
          "output_type": "stream",
          "name": "stdout",
          "text": [
            "[[4.3 4.2 0. ]\n",
            " [3.1 3.6 1. ]]\n"
          ]
        }
      ]
    },
    {
      "cell_type": "markdown",
      "source": [
        "###numpy.column_stack###\n",
        "numpy.column_stack(tup)\n",
        "\n",
        "Stack 1-D arrays as columns into a 2-D array.\n",
        "\n",
        "Take a sequence of 1-D arrays and stack them as columns to make a single 2-D array. 2-D arrays are stacked as-is, just like with hstack. 1-D arrays are turned into 2-D columns first.\n",
        "\n",
        "Parameters\n",
        "tupsequence of 1-D or 2-D arrays.\n",
        "Arrays to stack. All of them must have the same first dimension.\n",
        "\n",
        "Returns\n",
        "stacked2-D array\n",
        "The array formed by stacking the given arrays.\n",
        "\n",
        "\n"
      ],
      "metadata": {
        "id": "5mZbn8bkONLQ"
      }
    },
    {
      "cell_type": "code",
      "source": [
        "import numpy as np\n",
        "\n",
        "\n",
        "feature1 = np.array([1.6, 0.9, 2.2])\n",
        "feature2 = np.array([0.4, 1.3, 3.2])\n",
        "feature3 = np.array([1.4, 0.3, 1.2])\n",
        "\n",
        "\n",
        "print(np.column_stack((feature1,feature2,feature3))) #1D array ko convert karta hai 2d array mein stack karke"
      ],
      "metadata": {
        "id": "kuiYcfEbNG6h",
        "outputId": "e7c766c6-9a95-4c22-f141-befc2f8d6d57",
        "colab": {
          "base_uri": "https://localhost:8080/"
        }
      },
      "execution_count": 27,
      "outputs": [
        {
          "output_type": "stream",
          "name": "stdout",
          "text": [
            "[[1.6 0.4 1.4]\n",
            " [0.9 1.3 0.3]\n",
            " [2.2 3.2 1.2]]\n"
          ]
        }
      ]
    },
    {
      "cell_type": "markdown",
      "source": [
        "###numpy.split###\n",
        "numpy.split(ary, indices_or_sections, axis=0)\n",
        "\n",
        "\n",
        "Split an array into multiple sub-arrays as views into ary.\n",
        "\n",
        "\n",
        "aryndarray\n",
        "Array to be divided into sub-arrays.\n",
        "\n",
        "indices_or_sectionsint or 1-D array\n",
        "If indices_or_sections is an integer, N, the array will be divided into N equal arrays along axis. If such a split is not possible, an error is raised.\n",
        "\n",
        "If indices_or_sections is a 1-D array of sorted integers, the entries indicate where along axis the array is split. For example, [2, 3] would, for axis=0, result in\n",
        "\n",
        "ary[:2]\n",
        "\n",
        "ary[2:3]\n",
        "\n",
        "ary[3:]\n",
        "\n",
        "If an index exceeds the dimension of the array along axis, an empty sub-array is returned correspondingly."
      ],
      "metadata": {
        "id": "rTm7YGfKRZXy"
      }
    },
    {
      "cell_type": "code",
      "source": [
        "import numpy as np\n",
        "\n",
        "\n",
        "np.random.seed(42)\n",
        "\n",
        "A = np.random.randint(low=0, high=7, size=(5, 8))\n",
        "A[:, :2] = 0\n",
        "A[:, -2:] = 1\n",
        "\n",
        "print(A)\n",
        "\n",
        "A1, A2 ,A3= np.split(A, [2,6], axis=1) # This will split array into 3 part which is 0:1 ,2:5 , 5:end splitting will be done on basis of column\n",
        "\n",
        "\n",
        "print(A1)\n",
        "print(\"\\n\")\n",
        "\n",
        "print(A2)\n",
        "print(\"\\n\")\n",
        "\n",
        "print(A3)\n",
        "print(\"\\n\")"
      ],
      "metadata": {
        "id": "cuj0u0BCOEp4",
        "outputId": "3f0995f4-8268-4065-8788-d6182909c891",
        "colab": {
          "base_uri": "https://localhost:8080/"
        }
      },
      "execution_count": 39,
      "outputs": [
        {
          "output_type": "stream",
          "name": "stdout",
          "text": [
            "[[0 0 4 6 2 4 1 1]\n",
            " [0 0 6 2 2 4 1 1]\n",
            " [0 0 1 3 5 5 1 1]\n",
            " [0 0 3 1 5 4 1 1]\n",
            " [0 0 2 6 1 3 1 1]]\n",
            "[[0 0]\n",
            " [0 0]\n",
            " [0 0]\n",
            " [0 0]\n",
            " [0 0]]\n",
            "\n",
            "\n",
            "[[4 6 2 4]\n",
            " [6 2 2 4]\n",
            " [1 3 5 5]\n",
            " [3 1 5 4]\n",
            " [2 6 1 3]]\n",
            "\n",
            "\n",
            "[[1 1]\n",
            " [1 1]\n",
            " [1 1]\n",
            " [1 1]\n",
            " [1 1]]\n",
            "\n",
            "\n"
          ]
        }
      ]
    },
    {
      "cell_type": "markdown",
      "source": [
        "###numpy.count_nonzero###\n",
        "\n",
        "numpy.count_nonzero(a, axis=None, *, keepdims=False)\n",
        "\n",
        "This will count non zero element in an Array"
      ],
      "metadata": {
        "id": "s6L5xiWmTZd9"
      }
    },
    {
      "cell_type": "code",
      "source": [
        "import numpy as np\n",
        "\n",
        "\n",
        "np.random.seed(42)\n",
        "\n",
        "A = np.random.randint(low=0, high=2, size=(10, 6))\n",
        "\n",
        "print(np.count_nonzero(A))"
      ],
      "metadata": {
        "id": "TZEku8boQemf",
        "outputId": "a0b1fee9-92b8-4a46-f801-19244d9b1a43",
        "colab": {
          "base_uri": "https://localhost:8080/"
        }
      },
      "execution_count": 40,
      "outputs": [
        {
          "output_type": "stream",
          "name": "stdout",
          "text": [
            "31\n"
          ]
        }
      ]
    },
    {
      "cell_type": "markdown",
      "source": [
        "###numpy.set_printoptions###\n",
        "\n",
        "numpy.set_printoptions(precision=None, threshold=None, edgeitems=None, linewidth=None, suppress=None, nanstr=None, infstr=None, formatter=None, sign=None, floatmode=None, *, legacy=None)\n",
        "\n",
        "Set printing options.\n",
        "\n",
        "These options determine the way floating point numbers, arrays and other NumPy objects are displayed."
      ],
      "metadata": {
        "id": "kumzfmkBUOqC"
      }
    },
    {
      "cell_type": "code",
      "source": [
        "import numpy as np\n",
        "\n",
        "\n",
        "np.random.seed(42)\n",
        "\n",
        "A = np.random.randn(10, 4)\n",
        "np.set_printoptions(precision=4)\n",
        "print(A)"
      ],
      "metadata": {
        "id": "SqJ89Y9-TsTc",
        "outputId": "38644d94-e87c-4a70-bc36-1da2cf80057a",
        "colab": {
          "base_uri": "https://localhost:8080/"
        }
      },
      "execution_count": 41,
      "outputs": [
        {
          "output_type": "stream",
          "name": "stdout",
          "text": [
            "[[ 0.4967 -0.1383  0.6477  1.523 ]\n",
            " [-0.2342 -0.2341  1.5792  0.7674]\n",
            " [-0.4695  0.5426 -0.4634 -0.4657]\n",
            " [ 0.242  -1.9133 -1.7249 -0.5623]\n",
            " [-1.0128  0.3142 -0.908  -1.4123]\n",
            " [ 1.4656 -0.2258  0.0675 -1.4247]\n",
            " [-0.5444  0.1109 -1.151   0.3757]\n",
            " [-0.6006 -0.2917 -0.6017  1.8523]\n",
            " [-0.0135 -1.0577  0.8225 -1.2208]\n",
            " [ 0.2089 -1.9597 -1.3282  0.1969]]\n"
          ]
        }
      ]
    },
    {
      "cell_type": "code",
      "source": [
        "import numpy as np\n",
        "\n",
        "\n",
        "A = np.array([1.2e-6, 1.7e-7])\n",
        "\n",
        "print(A,\"\\n\")\n",
        "np.set_printoptions(precision=8,suppress=True)\n",
        "print(A)"
      ],
      "metadata": {
        "id": "JJc8ZrgkUe29",
        "outputId": "74e114c1-20b1-4650-ce7b-9fc65929f889",
        "colab": {
          "base_uri": "https://localhost:8080/"
        }
      },
      "execution_count": 43,
      "outputs": [
        {
          "output_type": "stream",
          "name": "stdout",
          "text": [
            "[0.0000012  0.00000017] \n",
            "\n",
            "[0.0000012  0.00000017]\n"
          ]
        }
      ]
    },
    {
      "cell_type": "markdown",
      "source": [
        "###numpy.delete###\n",
        "\n",
        "numpy.delete(arr, obj, axis=None)\n",
        "\n",
        "Return a new array with sub-arrays along an axis deleted. For a one dimensional array, this returns those entries not returned by arr[obj]."
      ],
      "metadata": {
        "id": "P7-vi7viXk7s"
      }
    },
    {
      "cell_type": "code",
      "source": [
        "import numpy as np\n",
        "\n",
        "\n",
        "np.random.seed(42)\n",
        "\n",
        "A = np.random.randn(8, 4)\n",
        "\n",
        "print(np.delete(A, [2], axis=1))\n"
      ],
      "metadata": {
        "id": "7rZDmMw1WmBl",
        "outputId": "a2fbd496-f656-4468-890a-fd77242b34b8",
        "colab": {
          "base_uri": "https://localhost:8080/"
        }
      },
      "execution_count": 44,
      "outputs": [
        {
          "output_type": "stream",
          "name": "stdout",
          "text": [
            "[[ 0.49671415 -0.1382643   1.52302986]\n",
            " [-0.23415337 -0.23413696  0.76743473]\n",
            " [-0.46947439  0.54256004 -0.46572975]\n",
            " [ 0.24196227 -1.91328024 -0.56228753]\n",
            " [-1.01283112  0.31424733 -1.4123037 ]\n",
            " [ 1.46564877 -0.2257763  -1.42474819]\n",
            " [-0.54438272  0.11092259  0.37569802]\n",
            " [-0.60063869 -0.29169375  1.85227818]]\n"
          ]
        }
      ]
    },
    {
      "cell_type": "markdown",
      "source": [
        "###numpy.linalg###\n",
        "\n",
        "[linear algebra](https://numpy.org/doc/stable/reference/routines.linalg.html?highlight=linalg#module-numpy.linalg)"
      ],
      "metadata": {
        "id": "jDgWT3yHYmTa"
      }
    },
    {
      "cell_type": "code",
      "source": [
        "import numpy as np\n",
        "\n",
        "\n",
        "v = np.array([3, 4, -2])\n",
        "print(np.linalg.norm(v))\n"
      ],
      "metadata": {
        "id": "JWS1L0AjXuC1",
        "outputId": "5695c00b-583a-4e5b-c70c-8c73a06e9e7a",
        "colab": {
          "base_uri": "https://localhost:8080/"
        }
      },
      "execution_count": 45,
      "outputs": [
        {
          "output_type": "stream",
          "name": "stdout",
          "text": [
            "5.385164807134504\n"
          ]
        }
      ]
    },
    {
      "cell_type": "markdown",
      "source": [
        "Q. Set the Numpy option to print only ten edge elements and then print this array to the console.\n",
        "\n"
      ],
      "metadata": {
        "id": "t_vmjSu-ZG8D"
      }
    },
    {
      "cell_type": "code",
      "source": [
        "import numpy as np\n",
        "\n",
        "\n",
        "np.random.seed(42)\n",
        "A = np.random.randint(10, size=(100, 30))\n",
        "np.set_printoptions(edgeitems=10)\n",
        "print(A)\n"
      ],
      "metadata": {
        "id": "t4nkS4o2Yw5R",
        "outputId": "9d6fed6b-4730-4324-c569-b55160515350",
        "colab": {
          "base_uri": "https://localhost:8080/"
        }
      },
      "execution_count": 46,
      "outputs": [
        {
          "output_type": "stream",
          "name": "stdout",
          "text": [
            "[[6 3 7 4 6 9 2 6 7 4 ... 4 0 9 5 8 0 9 2 6 3]\n",
            " [8 2 4 2 6 4 8 6 1 3 ... 2 0 3 1 7 3 1 5 5 9]\n",
            " [3 5 1 9 1 9 3 7 6 8 ... 6 8 7 0 7 7 2 0 7 2]\n",
            " [2 0 4 9 6 9 8 6 8 7 ... 0 2 4 2 0 4 9 6 6 8]\n",
            " [9 9 2 6 0 3 3 4 6 6 ... 9 6 8 6 0 0 8 8 3 8]\n",
            " [2 6 5 7 8 4 0 2 9 7 ... 2 0 4 0 7 0 0 1 1 5]\n",
            " [6 4 0 0 2 1 4 9 5 6 ... 5 0 8 5 2 3 3 2 9 2]\n",
            " [2 3 6 3 8 0 7 6 1 7 ... 3 0 1 0 4 4 6 8 8 2]\n",
            " [2 2 3 7 5 7 0 7 3 0 ... 1 1 5 2 8 3 0 3 0 4]\n",
            " [3 7 7 6 2 0 0 2 5 6 ... 4 2 3 2 0 0 4 5 2 8]\n",
            " ...\n",
            " [6 4 8 2 0 3 8 3 1 9 ... 8 4 7 1 5 2 9 4 7 9]\n",
            " [0 4 2 3 1 8 2 1 9 8 ... 7 7 6 5 8 3 0 7 6 6]\n",
            " [2 3 9 8 5 4 2 8 4 4 ... 6 1 7 5 3 4 7 2 2 3]\n",
            " [0 8 7 7 9 5 6 5 8 2 ... 2 3 7 5 4 3 7 0 8 0]\n",
            " [7 3 8 4 2 8 8 3 3 7 ... 4 4 3 4 2 0 4 8 8 3]\n",
            " [2 0 1 7 0 7 6 7 5 8 ... 2 3 6 6 3 5 2 5 1 7]\n",
            " [1 6 8 0 7 6 5 5 5 8 ... 2 7 2 3 7 0 5 0 0 7]\n",
            " [3 0 9 6 4 4 0 9 5 8 ... 6 8 6 2 0 7 2 7 7 4]\n",
            " [0 9 6 9 4 7 8 6 6 0 ... 7 3 0 0 9 2 8 6 1 8]\n",
            " [9 1 2 9 1 2 5 8 8 6 ... 8 2 0 6 9 4 4 0 8 6]]\n"
          ]
        }
      ]
    },
    {
      "cell_type": "code",
      "source": [
        "import numpy as np\n",
        "\n",
        "\n",
        "A = np.array([[3, 4, 9, 2],\n",
        "              [5, 3, 2, 5]])\n",
        "B = np.array([[4, 3, 2, 5],\n",
        "              [6, 3, 1, 6]])\n",
        "              \n",
        "print(np.mean(A))\n",
        "print(np.mean(B))"
      ],
      "metadata": {
        "id": "4sRMhQKxZMHH",
        "outputId": "d10fa130-c8b4-49ad-e803-a03517ff96c2",
        "colab": {
          "base_uri": "https://localhost:8080/"
        }
      },
      "execution_count": 1,
      "outputs": [
        {
          "output_type": "stream",
          "name": "stdout",
          "text": [
            "4.125\n",
            "3.75\n"
          ]
        }
      ]
    },
    {
      "cell_type": "markdown",
      "source": [
        "###np.divide###\n",
        "Divide arguments element-wise.\n",
        "\n",
        "x1array_like\n",
        "Dividend array.\n",
        "\n",
        "x2array_like\n",
        "Divisor array. If x1.shape != x2.shape, they must be broadcastable to a common shape (which becomes the shape of the output).\n",
        "\n",
        "outndarray, None, or tuple of ndarray and None, optional\n",
        "A location into which the result is stored. If provided, it must have a shape that the inputs broadcast to. If not provided or None, a freshly-allocated array is returned. A tuple (possible only as a keyword argument) must have length equal to the number of outputs.\n",
        "\n",
        "wherearray_like, optional\n",
        "This condition is broadcast over the input. At locations where the condition is True, the out array will be set to the ufunc result. Elsewhere, the out array will retain its original value. Note that if an uninitialized out array is created via the default out=N\n"
      ],
      "metadata": {
        "id": "MsRUlX67_3Pe"
      }
    },
    {
      "cell_type": "markdown",
      "source": [
        "Q. Calculate arithmetic means of these arrays (elementwise) and print result to the console.\n",
        "\n"
      ],
      "metadata": {
        "id": "JlJZXccyAMRN"
      }
    },
    {
      "cell_type": "code",
      "source": [
        "import numpy as np\n",
        "\n",
        "\n",
        "A = np.array([[3, 4, 9, 2],\n",
        "              [5, 3, 2, 5]])\n",
        "B = np.array([[4, 3, 2, 5],\n",
        "              [6, 3, 1, 6]])\n",
        "              \n",
        "print(np.divide(np.add(A, B), 2)) #By adding each element wise of array A and B and dividing by 2 "
      ],
      "metadata": {
        "id": "GVOy12tl_DwK",
        "outputId": "c74a03e3-0250-44af-832e-977e0e4bfae7",
        "colab": {
          "base_uri": "https://localhost:8080/"
        }
      },
      "execution_count": 3,
      "outputs": [
        {
          "output_type": "stream",
          "name": "stdout",
          "text": [
            "[[3.5 3.5 5.5 3.5]\n",
            " [5.5 3.  1.5 5.5]]\n"
          ]
        }
      ]
    },
    {
      "cell_type": "markdown",
      "source": [
        "###Numpy.multiply###\n",
        "\n",
        "numpy.multiply(x1, x2, /, out=None, *, where=True, casting='same_kind', order='K', dtype=None, subok=True[, signature, extobj]) \n",
        "Multiply arguments element-wise.\n",
        "\n"
      ],
      "metadata": {
        "id": "dlT7MWFLBQxQ"
      }
    },
    {
      "cell_type": "code",
      "source": [
        "import numpy as np\n",
        "\n",
        "\n",
        "A = np.array([[3, 4, 9, 2],\n",
        "              [5, 3, 2, 5]])\n",
        "B = np.array([[4, 3, 2, 5],\n",
        "              [6, 3, 1, 6]])\n",
        "              \n",
        "print(np.multiply(A,B))"
      ],
      "metadata": {
        "id": "W_ZXfvEXAK9Z",
        "outputId": "e3f853e2-7ec9-4ebc-925a-b8db5f2d2d58",
        "colab": {
          "base_uri": "https://localhost:8080/"
        }
      },
      "execution_count": 6,
      "outputs": [
        {
          "output_type": "stream",
          "name": "stdout",
          "text": [
            "[[12 12 18 10]\n",
            " [30  9  2 30]]\n"
          ]
        }
      ]
    },
    {
      "cell_type": "markdown",
      "source": [
        "###Numpy.sqrt###\n",
        "numpy.sqrt(x, /, out=None, *, where=True, casting='same_kind', order='K', dtype=None, subok=True[, signature, extobj]) \n",
        "\n",
        "\n",
        "Return the non-negative square-root of an array, element-wise.\n",
        "\n"
      ],
      "metadata": {
        "id": "XTG4kT4kBm-a"
      }
    },
    {
      "cell_type": "code",
      "source": [
        "import numpy as np\n",
        "\n",
        "\n",
        "A = np.array([[3, 4, 9, 2],\n",
        "              [5, 3, 2, 5]])\n",
        "              \n",
        "              \n",
        "print(np.sqrt(A))"
      ],
      "metadata": {
        "id": "gGwsBpDLAxt5",
        "outputId": "54f3f453-07d1-4a75-bce2-1241f4d296c4",
        "colab": {
          "base_uri": "https://localhost:8080/"
        }
      },
      "execution_count": 7,
      "outputs": [
        {
          "output_type": "stream",
          "name": "stdout",
          "text": [
            "[[1.73205081 2.         3.         1.41421356]\n",
            " [2.23606798 1.73205081 1.41421356 2.23606798]]\n"
          ]
        }
      ]
    },
    {
      "cell_type": "markdown",
      "source": [
        "###Numpy.linspace###\n",
        "\n",
        "numpy.linspace(start, stop, num=50, endpoint=True, retstep=False, dtype=None, axis=0)\n",
        "\n",
        "Return evenly spaced numbers over a specified interval.\n",
        "\n",
        "startarray_like\n",
        "The starting value of the sequence.\n",
        "\n",
        "stoparray_like\n",
        "The end value of the sequence, unless endpoint is set to False. In that case, the sequence consists of all but the last of num + 1 evenly spaced samples, so that stop is excluded. Note that the step size changes when endpoint is False.\n",
        "\n",
        "numint, optional\n",
        "Number of samples to generate. Default is 50. Must be non-negative.\n",
        "\n",
        "endpointbool, optional\n",
        "If True, stop is the last sample. Otherwise, it is not included. Default is True.\n",
        "\n",
        "retstepbool, optional\n",
        "If True, return (samples, step), where step is the spacing between samples\n",
        "\n"
      ],
      "metadata": {
        "id": "04VTqAf_ChoT"
      }
    },
    {
      "cell_type": "code",
      "source": [
        "import numpy as np\n",
        "\n",
        "\n",
        "A = np.linspace(0, np.pi / 2, 20)\n",
        "\n",
        "print(A)\n",
        "B = np.full(shape=(20,), fill_value=1, dtype='float')\n",
        "\n",
        "\n",
        "print(np.allclose(np.sin(A) ** 2 + np.cos(A) ** 2, B))\n"
      ],
      "metadata": {
        "id": "9kja3B9wCDhR",
        "outputId": "ecb40357-06ae-487a-a8f2-de0b2bf44622",
        "colab": {
          "base_uri": "https://localhost:8080/"
        }
      },
      "execution_count": 10,
      "outputs": [
        {
          "output_type": "stream",
          "name": "stdout",
          "text": [
            "[0.         0.08267349 0.16534698 0.24802047 0.33069396 0.41336745\n",
            " 0.49604095 0.57871444 0.66138793 0.74406142 0.82673491 0.9094084\n",
            " 0.99208189 1.07475538 1.15742887 1.24010236 1.32277585 1.40544935\n",
            " 1.48812284 1.57079633]\n",
            "True\n"
          ]
        }
      ]
    },
    {
      "cell_type": "markdown",
      "source": [
        "###numpy.sin###\n",
        "numpy.sin(x, /, out=None, *, where=True, casting='same_kind', order='K', dtype=None, subok=True[, signature, extobj]) \n",
        "\n",
        "Trigonometric sine, element-wise.\n",
        "\n",
        "xarray_like\n",
        "Angle, in radians ( rad equals 360 degrees).\n",
        "\n",
        "outndarray, None, or tuple of ndarray and None, optional\n",
        "A location into which the result is stored. If provided, it must have a shape that the inputs broadcast to. If not provided or None, a freshly-allocated array is returned. A tuple (possible only as a keyword argument) must have length equal to the number of outputs.\n",
        "\n",
        "wherearray_like, optional\n",
        "This condition is broadcast over the input. At locations where the condition is True, the out array will be set to the ufunc result. Elsewhere, the out array will retain its original value. Note that if an uninitialized out array is created via the default out=None, locations within it where the condition is False will remain uninitialized.\n"
      ],
      "metadata": {
        "id": "1BEg-M2oHm9t"
      }
    },
    {
      "cell_type": "code",
      "source": [
        "import numpy as np\n",
        "\n",
        "\n",
        "A = np.linspace(0, np.pi / 2, 20)\n",
        "B = np.full(shape=(20,), fill_value=1, dtype='float')\n",
        "\n",
        "\n",
        "print(np.allclose(np.sin(A) ** 2 + np.cos(A) ** 2, B))"
      ],
      "metadata": {
        "id": "p65mUT6NDG3l",
        "outputId": "4e1067c4-528b-4e51-a9f6-7adb070fbbf1",
        "colab": {
          "base_uri": "https://localhost:8080/"
        }
      },
      "execution_count": 9,
      "outputs": [
        {
          "output_type": "stream",
          "name": "stdout",
          "text": [
            "True\n"
          ]
        }
      ]
    },
    {
      "cell_type": "markdown",
      "source": [
        "###numpy.dot###\n",
        "Matrix multiplication\n",
        "\n",
        "numpy.dot(a, b, out=None)\n",
        "![Dot Product example](https://dcvp84mxptlac.cloudfront.net/diagrams2/equation-6-3x3-matrix-multiplication-example-pt-5.jpg)\n"
      ],
      "metadata": {
        "id": "QJ4d5EqkMKpJ"
      }
    },
    {
      "cell_type": "code",
      "source": [
        "import numpy as np\n",
        " \n",
        " \n",
        "A = np.array([[2, 3],\n",
        "              [-4, 2],\n",
        "              [5, 0]])\n",
        "B = np.array([[4, 3, 2],\n",
        "              [-1, 0, 2]])\n",
        " \n",
        "print(np.dot(A, B))\n"
      ],
      "metadata": {
        "id": "f7TNVrt9IFpL",
        "outputId": "792bfed9-17f2-4faa-8b20-44b2a0f6fbb1",
        "colab": {
          "base_uri": "https://localhost:8080/"
        }
      },
      "execution_count": 11,
      "outputs": [
        {
          "output_type": "stream",
          "name": "stdout",
          "text": [
            "[[  5   6  10]\n",
            " [-18 -12  -4]\n",
            " [ 20  15  10]]\n"
          ]
        }
      ]
    },
    {
      "cell_type": "markdown",
      "source": [
        "###Numpy.linalg.det###\n",
        "\n",
        "linalg.det(a)\n",
        "\n",
        "To Find determinant of matrix\n",
        "\n",
        "\n",
        "![Example of Matrix Determinant](https://dcvp84mxptlac.cloudfront.net/diagrams2/equation-3-determinant-of-a-3x3-matrix.png)"
      ],
      "metadata": {
        "id": "zMt4zu5SOMyz"
      }
    },
    {
      "cell_type": "code",
      "source": [
        "import numpy as np\n",
        "\n",
        "\n",
        "A = np.array([[-2, 0, 4],\n",
        "              [5, 2, -1],\n",
        "              [-4, 2, 4]])\n",
        "              \n",
        "print(np.linalg.det(A))"
      ],
      "metadata": {
        "id": "B1gPrNnbOMSP",
        "outputId": "e20f59d6-3d5a-44ee-81bb-a4ed32837749",
        "colab": {
          "base_uri": "https://localhost:8080/"
        }
      },
      "execution_count": 13,
      "outputs": [
        {
          "output_type": "stream",
          "name": "stdout",
          "text": [
            "51.999999999999986\n"
          ]
        }
      ]
    },
    {
      "cell_type": "markdown",
      "source": [
        "###numpy.linalg.eig###\n",
        "linalg.eig(a)\n",
        "\n",
        "Compute the eigenvalues and right eigenvectors of a square array.\n",
        "\n",
        "![ What is Eigen Value and Eigen Vector](https://i.ytimg.com/vi/GLVfsX5aqx8/maxresdefault.jpg)"
      ],
      "metadata": {
        "id": "CxiweaVFYJ-E"
      }
    },
    {
      "cell_type": "code",
      "source": [
        "import numpy as np\n",
        "\n",
        "\n",
        "A = np.array([[5, 8, 16],\n",
        "              [4, 1, 8],\n",
        "              [-4, 4, -11]])\n",
        "              \n",
        "              \n",
        "print(np.linalg.eig(A))"
      ],
      "metadata": {
        "id": "WmnX2N7EMXRw",
        "outputId": "f74f81b2-1fe3-4f7c-c4a9-f01feda7c09b",
        "colab": {
          "base_uri": "https://localhost:8080/"
        }
      },
      "execution_count": 14,
      "outputs": [
        {
          "output_type": "stream",
          "name": "stdout",
          "text": [
            "(array([-9.24621125, -3.        ,  7.24621125]), array([[-6.26164716e-01, -8.94427191e-01,  8.90159406e-01],\n",
            "       [-3.13082358e-01,  2.82399734e-16,  4.45079703e-01],\n",
            "       [ 7.14070855e-01,  4.47213595e-01, -9.75719719e-02]]))\n"
          ]
        }
      ]
    },
    {
      "cell_type": "markdown",
      "source": [
        "###numpy.linalg.inv###\n",
        "\n",
        "linalg.inv(a)\n",
        "\n",
        "Compute the (multiplicative) inverse of a matrix.\n",
        "\n",
        "Given a square matrix a, return the matrix ainv satisfying dot(a, ainv) = dot(ainv, a) = eye(a.shape[0]).\n",
        "\n"
      ],
      "metadata": {
        "id": "_4YSUalFZh-1"
      }
    },
    {
      "cell_type": "code",
      "source": [
        "import numpy as np\n",
        "\n",
        "\n",
        "A = np.array([[5, 8, 16],\n",
        "              [4, 1, 8],\n",
        "              [-4, 4, -11]])\n",
        "              \n",
        "              \n",
        "print(np.linalg.inv(A))"
      ],
      "metadata": {
        "id": "zDgREZuzXyt0",
        "outputId": "9e5cd1fb-3eb6-443e-f99d-d9042d4e261f",
        "colab": {
          "base_uri": "https://localhost:8080/"
        }
      },
      "execution_count": 15,
      "outputs": [
        {
          "output_type": "stream",
          "name": "stdout",
          "text": [
            "[[-0.21393035  0.75621891  0.23880597]\n",
            " [ 0.05970149  0.04477612  0.11940299]\n",
            " [ 0.09950249 -0.25870647 -0.13432836]]\n"
          ]
        }
      ]
    },
    {
      "cell_type": "markdown",
      "source": [
        "###numpy.trace###\n",
        "\n",
        "numpy.trace(a, offset=0, axis1=0, axis2=1, dtype=None, out=None)[source]\n",
        "\n",
        "Return the sum along diagonals of the array.\n",
        "\n",
        "If a is 2-D, the sum along its diagonal with the given offset is returned, i.e., the sum of elements a[i,i+offset] for all i.\n",
        "\n",
        "If a has more than two dimensions, then the axes specified by axis1 and axis2 are used to determine the 2-D sub-arrays whose traces are returned. The shape of the resulting array is the same as that of a with axis1 and axis2 removed.\n",
        "\n",
        "Parameters\n",
        "aarray_like\n",
        "Input array, from which the diagonals are taken.\n",
        "\n",
        "offsetint, optional\n",
        "Offset of the diagonal from the main diagonal. Can be both positive and negative. Defaults to 0.\n",
        "\n",
        "axis1, axis2int, optional\n",
        "Axes to be used as the first and second axis of the 2-D sub-arrays from which the diagonals should be taken. Defaults are the first two axes of a."
      ],
      "metadata": {
        "id": "L0UvXbdrbdk6"
      }
    },
    {
      "cell_type": "code",
      "source": [
        "import numpy as np\n",
        "\n",
        "\n",
        "A = np.array([[5, 8, 16],\n",
        "              [4, 1, 8],\n",
        "              [-4, 4, -11]])\n",
        "              \n",
        "              \n",
        "print(np.trace(A)) #Diagonal element Sum i.e ( 5+1+(-11))"
      ],
      "metadata": {
        "id": "8HtaHqTeZhML",
        "outputId": "b31ec67c-2cb6-43c0-c4a4-eab087ba276c",
        "colab": {
          "base_uri": "https://localhost:8080/"
        }
      },
      "execution_count": 16,
      "outputs": [
        {
          "output_type": "stream",
          "name": "stdout",
          "text": [
            "-5\n"
          ]
        }
      ]
    },
    {
      "cell_type": "markdown",
      "source": [
        "Q.Transform B array to perform the matrix multiplication A x B. Then perform this multiplication and print result to the console.\n",
        "\n"
      ],
      "metadata": {
        "id": "7hIB28excEnS"
      }
    },
    {
      "cell_type": "code",
      "source": [
        "import numpy as np\n",
        "\n",
        "\n",
        "A = np.array([[2, 0],\n",
        "              [4, 2],\n",
        "              [5, 3],\n",
        "              [4, 2]])\n",
        "B = np.array([[4, 0, 2, 1, 1, 0, 2, 9]])\n",
        "\n",
        "print(np.dot(A, B.reshape(2, -1)))\n"
      ],
      "metadata": {
        "id": "APZD9hUmbk-x",
        "outputId": "5732969b-3daf-4201-8033-8ff6a879b80b",
        "colab": {
          "base_uri": "https://localhost:8080/"
        }
      },
      "execution_count": 1,
      "outputs": [
        {
          "output_type": "stream",
          "name": "stdout",
          "text": [
            "[[ 8  0  4  2]\n",
            " [18  0 12 22]\n",
            " [23  0 16 32]\n",
            " [18  0 12 22]]\n"
          ]
        }
      ]
    },
    {
      "cell_type": "markdown",
      "source": [
        "###Numpy.random.shuffle###\n",
        "\n",
        "random.shuffle(x)\n",
        "\n",
        "Modify a sequence in-place by shuffling its contents.\n",
        "\n"
      ],
      "metadata": {
        "id": "TOLOmQWLrxLJ"
      }
    },
    {
      "cell_type": "code",
      "source": [
        "import numpy as np\n",
        "\n",
        "\n",
        "np.random.seed(42)\n",
        "\n",
        "A = np.array([['id', 'price'],\n",
        "              ['001', 14.99],\n",
        "              ['002', 4.99],\n",
        "              ['003', 7.99],\n",
        "              ['004', 2.49],\n",
        "              ['005', 1.49]])\n",
        "              \n",
        "              \n",
        "np.random.shuffle(A[1:])\n",
        "print(A)"
      ],
      "metadata": {
        "id": "FgbGzHrDcCky",
        "outputId": "5c83338c-d8b0-46ef-deb3-6cee27aaf5e3",
        "colab": {
          "base_uri": "https://localhost:8080/"
        }
      },
      "execution_count": 2,
      "outputs": [
        {
          "output_type": "stream",
          "name": "stdout",
          "text": [
            "[['id' 'price']\n",
            " ['002' '4.99']\n",
            " ['005' '1.49']\n",
            " ['003' '7.99']\n",
            " ['001' '14.99']\n",
            " ['004' '2.49']]\n"
          ]
        }
      ]
    },
    {
      "cell_type": "markdown",
      "source": [
        "###numpy.argsort###\n",
        "\n",
        "numpy.argsort(a, axis=- 1, kind=None, order=None)\n",
        "\n",
        "Perform an indirect sort along the given axis using the algorithm specified by the kind keyword. It returns an array of indices of the same shape as a that index data along the given axis in sorted order.\n",
        "\n",
        "Parameters\n",
        "aarray_like\n",
        "Array to sort.\n",
        "\n",
        "axisint or None, optional\n",
        "Axis along which to sort. The default is -1 (the last axis). If None, the flattened array is used."
      ],
      "metadata": {
        "id": "QWWCuDYdr8JL"
      }
    },
    {
      "cell_type": "code",
      "source": [
        "import numpy as np\n",
        "\n",
        "\n",
        "A = np.array([0.2, 0.15, 0.1, 0.3, 0.2, 0.05])\n",
        "\n",
        "print(np.argsort(A))"
      ],
      "metadata": {
        "id": "wIX2TWbFru8G",
        "outputId": "2e522152-a196-428d-83c9-862e27a17cc2",
        "colab": {
          "base_uri": "https://localhost:8080/"
        }
      },
      "execution_count": 3,
      "outputs": [
        {
          "output_type": "stream",
          "name": "stdout",
          "text": [
            "[5 2 1 0 4 3]\n"
          ]
        }
      ]
    },
    {
      "cell_type": "code",
      "source": [
        "import numpy as np\n",
        "\n",
        "\n",
        "np.random.seed(42)\n",
        "A = np.random.randn(10, 8)\n",
        "\n",
        "np.round(A,decimals=3)\n",
        "print(A)"
      ],
      "metadata": {
        "id": "y5HN1yGdsXpy",
        "outputId": "7b54c4b2-c70a-427f-9594-3fa9e1118867",
        "colab": {
          "base_uri": "https://localhost:8080/"
        }
      },
      "execution_count": 5,
      "outputs": [
        {
          "output_type": "stream",
          "name": "stdout",
          "text": [
            "[[ 0.49671415 -0.1382643   0.64768854  1.52302986 -0.23415337 -0.23413696\n",
            "   1.57921282  0.76743473]\n",
            " [-0.46947439  0.54256004 -0.46341769 -0.46572975  0.24196227 -1.91328024\n",
            "  -1.72491783 -0.56228753]\n",
            " [-1.01283112  0.31424733 -0.90802408 -1.4123037   1.46564877 -0.2257763\n",
            "   0.0675282  -1.42474819]\n",
            " [-0.54438272  0.11092259 -1.15099358  0.37569802 -0.60063869 -0.29169375\n",
            "  -0.60170661  1.85227818]\n",
            " [-0.01349722 -1.05771093  0.82254491 -1.22084365  0.2088636  -1.95967012\n",
            "  -1.32818605  0.19686124]\n",
            " [ 0.73846658  0.17136828 -0.11564828 -0.3011037  -1.47852199 -0.71984421\n",
            "  -0.46063877  1.05712223]\n",
            " [ 0.34361829 -1.76304016  0.32408397 -0.38508228 -0.676922    0.61167629\n",
            "   1.03099952  0.93128012]\n",
            " [-0.83921752 -0.30921238  0.33126343  0.97554513 -0.47917424 -0.18565898\n",
            "  -1.10633497 -1.19620662]\n",
            " [ 0.81252582  1.35624003 -0.07201012  1.0035329   0.36163603 -0.64511975\n",
            "   0.36139561  1.53803657]\n",
            " [-0.03582604  1.56464366 -2.6197451   0.8219025   0.08704707 -0.29900735\n",
            "   0.09176078 -1.98756891]]\n"
          ]
        }
      ]
    },
    {
      "cell_type": "markdown",
      "source": [
        "###Numpy.roots###\n",
        "Return the roots of a polynomial with coefficients given in p.\n",
        "\n",
        "\n"
      ],
      "metadata": {
        "id": "wbiUfzAHv19O"
      }
    },
    {
      "cell_type": "code",
      "source": [
        "import numpy as np\n",
        "\n",
        "A = np.array([4,5,1])\n",
        "\n",
        "print(np.roots(A))"
      ],
      "metadata": {
        "id": "l4njj8_ruDGV",
        "outputId": "73e9b1da-61f4-42c3-f793-7e22483da581",
        "colab": {
          "base_uri": "https://localhost:8080/"
        }
      },
      "execution_count": 6,
      "outputs": [
        {
          "output_type": "stream",
          "name": "stdout",
          "text": [
            "[-1.   -0.25]\n"
          ]
        }
      ]
    },
    {
      "cell_type": "code",
      "source": [
        "import numpy as np\n",
        "\n",
        "Q = np.array([2,4,-5,1])\n",
        "R = np.array([2,-5,1])\n",
        "\n",
        "print(np.roots(Q))\n",
        "print(np.roots(R))"
      ],
      "metadata": {
        "id": "4xaNL5Elv0zg",
        "outputId": "6fea260b-3763-449c-b535-9fab73e0e603",
        "colab": {
          "base_uri": "https://localhost:8080/"
        }
      },
      "execution_count": 8,
      "outputs": [
        {
          "output_type": "stream",
          "name": "stdout",
          "text": [
            "[-2.91610583  0.65388685  0.26221898]\n",
            "[2.28077641 0.21922359]\n"
          ]
        }
      ]
    },
    {
      "cell_type": "markdown",
      "source": [
        ". QCalculate the roots of the following polynomials:\n",
        "\n",
        "![Question](https://img-c.udemycdn.com/redactor/raw/2020-07-02_05-51-18-ccc51005deb0dd6c12ec7ace05fefcc7.JPG)\n",
        "\n",
        "In response print these roots to the console as shown below.\n",
        "\n",
        "\n",
        "\n",
        "Tip: Use the np.roots() function."
      ],
      "metadata": {
        "id": "BfhjQVS7w2GO"
      }
    },
    {
      "cell_type": "code",
      "source": [
        "import numpy as np\n",
        "\n",
        "Q = np.array([2,4,-5,1])\n",
        "R = np.array([2,0,-5,1])\n",
        "\n",
        "print(np.roots(Q))\n",
        "print(np.roots(R))"
      ],
      "metadata": {
        "id": "G1IaAgSbwkBB",
        "outputId": "4c9358a1-3943-4197-c205-cacac2e71abd",
        "colab": {
          "base_uri": "https://localhost:8080/"
        }
      },
      "execution_count": 9,
      "outputs": [
        {
          "output_type": "stream",
          "name": "stdout",
          "text": [
            "[-2.91610583  0.65388685  0.26221898]\n",
            "[-1.67298165  1.46961743  0.20336421]\n"
          ]
        }
      ]
    },
    {
      "cell_type": "markdown",
      "source": [
        "print(np.polyadd(W, Q))\n",
        "print(np.polysub(W, Q))\n",
        "print(np.polymul(W, Q))\n",
        "print(np.polyadd(W, 2 * Q))\n",
        "\n",
        "###polynomial Add Sub multip###"
      ],
      "metadata": {
        "id": "Y8Fi9bg7yPqk"
      }
    },
    {
      "cell_type": "code",
      "source": [
        "import numpy as np\n",
        "\n",
        "W = np.array([4,5,1])\n",
        "Q = np.array([2,4,-5,1])\n",
        "\n",
        "print(np.polyadd(W, Q))\n",
        "print(np.polysub(W, Q))\n",
        "print(np.polymul(W, Q))\n",
        "print(np.polyadd(W, 2 * Q))\n",
        "\n",
        "\n"
      ],
      "metadata": {
        "id": "wjPnmz88yPR1",
        "outputId": "af3d7041-1da9-41f0-d6b1-5592e5c61a90",
        "colab": {
          "base_uri": "https://localhost:8080/"
        }
      },
      "execution_count": 10,
      "outputs": [
        {
          "output_type": "stream",
          "name": "stdout",
          "text": [
            "[2 8 0 2]\n",
            "[-2  0 10  0]\n",
            "[  8  26   2 -17   0   1]\n",
            "[ 4 12 -5  3]\n"
          ]
        }
      ]
    },
    {
      "cell_type": "markdown",
      "source": [
        "###numpy.sign###\n",
        "numpy.sign(x, /, out=None, *, where=True, casting='same_kind', order='K', dtype=None, subok=True[, signature, extobj]) = <ufunc 'sign'>\n",
        "\n",
        "The sign function returns -1 if x < 0, 0 if x==0, 1 if x > 0. nan is returned for nan inputs.\n",
        "\n",
        "For complex inputs, the sign function returns sign(x.real) + 0j if x.real != 0 else sign(x.imag) + 0j."
      ],
      "metadata": {
        "id": "f5Ej4qr-zNad"
      }
    },
    {
      "cell_type": "code",
      "source": [
        "import numpy as np\n",
        "\n",
        "\n",
        "A = np.array([[-4, 3, 0, 1, -5],\n",
        "              [6, -4, -2, 1, 3]])\n",
        "              \n",
        "              \n",
        "print(np.sign(A))"
      ],
      "metadata": {
        "id": "qkyICxrMwzYm",
        "outputId": "b1a9a29c-db55-4871-9144-037703510f57",
        "colab": {
          "base_uri": "https://localhost:8080/"
        }
      },
      "execution_count": 11,
      "outputs": [
        {
          "output_type": "stream",
          "name": "stdout",
          "text": [
            "[[-1  1  0  1 -1]\n",
            " [ 1 -1 -1  1  1]]\n"
          ]
        }
      ]
    },
    {
      "cell_type": "markdown",
      "source": [
        "###Datetime data type###\n",
        "Using the np.arange() function, generate the following array:\n",
        "\n",
        "\n",
        "\n",
        "['2021-01-01' '2021-01-02' '2021-01-03' '2021-01-04' '2021-01-05'\n",
        " '2021-01-06' '2021-01-07' '2021-01-08' '2021-01-09' '2021-01-10'\n",
        " '2021-01-11' '2021-01-12' '2021-01-13' '2021-01-14' '2021-01-15'\n",
        " '2021-01-16' '2021-01-17' '2021-01-18' '2021-01-19' '2021-01-20'\n",
        " '2021-01-21' '2021-01-22' '2021-01-23' '2021-01-24' '2021-01-25'\n",
        " '2021-01-26' '2021-01-27' '2021-01-28' '2021-01-29' '2021-01-30'\n",
        " '2021-01-31']"
      ],
      "metadata": {
        "id": "98HYOTDez9fg"
      }
    },
    {
      "cell_type": "code",
      "source": [
        "import numpy as np\n",
        "\n",
        "print(np.arange('2021-01-01', '2021-02-01', dtype='datetime64[D]'))\n"
      ],
      "metadata": {
        "id": "wNtNAkehzcsn",
        "outputId": "e843dd70-7388-4a8d-b698-4aa51d3206fc",
        "colab": {
          "base_uri": "https://localhost:8080/"
        }
      },
      "execution_count": 12,
      "outputs": [
        {
          "output_type": "stream",
          "name": "stdout",
          "text": [
            "['2021-01-01' '2021-01-02' '2021-01-03' '2021-01-04' '2021-01-05'\n",
            " '2021-01-06' '2021-01-07' '2021-01-08' '2021-01-09' '2021-01-10'\n",
            " '2021-01-11' '2021-01-12' '2021-01-13' '2021-01-14' '2021-01-15'\n",
            " '2021-01-16' '2021-01-17' '2021-01-18' '2021-01-19' '2021-01-20'\n",
            " '2021-01-21' '2021-01-22' '2021-01-23' '2021-01-24' '2021-01-25'\n",
            " '2021-01-26' '2021-01-27' '2021-01-28' '2021-01-29' '2021-01-30'\n",
            " '2021-01-31']\n"
          ]
        }
      ]
    },
    {
      "cell_type": "markdown",
      "source": [
        "###np.datetime64###\n",
        "\n",
        "If created from a 64-bit integer, it represents an offset from 1970-01-01T00:00:00. If created from string, the string can be in ISO 8601 date or datetime format.\n",
        "\n"
      ],
      "metadata": {
        "id": "ja1TacZA1XnE"
      }
    },
    {
      "cell_type": "code",
      "source": [
        "import numpy as np\n",
        "\n",
        "print(np.datetime64('today'))"
      ],
      "metadata": {
        "id": "IjbNpk730D79",
        "outputId": "dd7fc2b1-1515-47ef-be62-40b388eefd88",
        "colab": {
          "base_uri": "https://localhost:8080/"
        }
      },
      "execution_count": 13,
      "outputs": [
        {
          "output_type": "stream",
          "name": "stdout",
          "text": [
            "2022-08-16\n"
          ]
        }
      ]
    },
    {
      "cell_type": "markdown",
      "source": [
        "Q . Using Numpy generate all dates for mondays from January and February 2020 as an array and print result to the console.\n",
        "\n"
      ],
      "metadata": {
        "id": "OB8vNZB6p8lU"
      }
    },
    {
      "cell_type": "code",
      "source": [
        "import numpy as np\n",
        "\n",
        "print(np.arange('2020-01-06', '2020-03', dtype='datetime64[D]')[::7])\n"
      ],
      "metadata": {
        "id": "3_2cSpV_1PO6",
        "outputId": "7dae37de-c420-40b6-c8e2-c6646da2d2c1",
        "colab": {
          "base_uri": "https://localhost:8080/"
        }
      },
      "execution_count": 1,
      "outputs": [
        {
          "output_type": "stream",
          "name": "stdout",
          "text": [
            "['2020-01-06' '2020-01-13' '2020-01-20' '2020-01-27' '2020-02-03'\n",
            " '2020-02-10' '2020-02-17' '2020-02-24']\n"
          ]
        }
      ]
    },
    {
      "cell_type": "markdown",
      "source": [
        "###char.add(x1, x2)###\n",
        "\n",
        "Return element-wise string concatenation for two arrays of str or unicode.\n",
        "\n",
        "Arrays x1 and x2 must have the same shape.\n",
        "\n"
      ],
      "metadata": {
        "id": "FfGKWtXYqv0V"
      }
    },
    {
      "cell_type": "code",
      "source": [
        "import numpy as np\n",
        "\n",
        "\n",
        "A = np.array(['001', '002', '003'], dtype=str)\n",
        "B = np.array(['XC', 'YC', 'ZC'], dtype=str)\n",
        "\n",
        "print(np.char.add(A,B))"
      ],
      "metadata": {
        "id": "H3Vc0UK6qCLI",
        "outputId": "acdc3e3d-a028-4b92-c03b-ac8e667b97ae",
        "colab": {
          "base_uri": "https://localhost:8080/"
        }
      },
      "execution_count": 4,
      "outputs": [
        {
          "output_type": "stream",
          "name": "stdout",
          "text": [
            "['001XC' '002YC' '003ZC']\n"
          ]
        }
      ]
    },
    {
      "cell_type": "code",
      "source": [
        "import numpy as np\n",
        "\n",
        "A = np.array(['1', '2', '3'], dtype=np.str)\n",
        "\n",
        "A = np.char.rjust(A,3,'0')\n",
        "print(A)"
      ],
      "metadata": {
        "id": "ENOPIBqErLDu",
        "outputId": "ca48313a-b46c-411c-e0d8-da1216526d5a",
        "colab": {
          "base_uri": "https://localhost:8080/"
        }
      },
      "execution_count": 7,
      "outputs": [
        {
          "output_type": "stream",
          "name": "stdout",
          "text": [
            "['001' '002' '003']\n"
          ]
        },
        {
          "output_type": "stream",
          "name": "stderr",
          "text": [
            "/usr/local/lib/python3.7/dist-packages/ipykernel_launcher.py:3: DeprecationWarning: `np.str` is a deprecated alias for the builtin `str`. To silence this warning, use `str` by itself. Doing this will not modify any behavior and is safe. If you specifically wanted the numpy scalar type, use `np.str_` here.\n",
            "Deprecated in NumPy 1.20; for more details and guidance: https://numpy.org/devdocs/release/1.20.0-notes.html#deprecations\n",
            "  This is separate from the ipykernel package so we can avoid doing imports until\n"
          ]
        }
      ]
    },
    {
      "cell_type": "markdown",
      "source": [
        "###numpy.char.rjust###\n",
        "char.rjust(a, width, fillchar=' ')\n",
        "\n",
        "Return an array with the elements of a right-justified in a string of length width.\n",
        "\n",
        "Calls str.rjust element-wise."
      ],
      "metadata": {
        "id": "i-hzMHArsU4e"
      }
    },
    {
      "cell_type": "code",
      "source": [
        "import numpy as np\n",
        "\n",
        "A = np.array(['1', '2', '3'], dtype=str)\n",
        "\n",
        "A = np.char.rjust(A,4,'0')  #This will add 3 zeros in above array to each element of that array\n",
        "print(A)"
      ],
      "metadata": {
        "id": "PK8X_N40r_pw",
        "outputId": "89a9f720-6ef8-4513-daad-ba88ed9a2bb8",
        "colab": {
          "base_uri": "https://localhost:8080/"
        }
      },
      "execution_count": 9,
      "outputs": [
        {
          "output_type": "stream",
          "name": "stdout",
          "text": [
            "['0001' '0002' '0003']\n"
          ]
        }
      ]
    },
    {
      "cell_type": "code",
      "source": [
        "#Alternative Solution for above \n",
        "import numpy as np\n",
        " \n",
        " \n",
        "A = np.array(['1', '2', '3'], dtype=str)\n",
        " \n",
        "print(np.char.add('000', A))"
      ],
      "metadata": {
        "id": "hrmSMrhPsn4k",
        "outputId": "ae0c2293-f25e-480c-c3e8-cc008e9791f2",
        "colab": {
          "base_uri": "https://localhost:8080/"
        }
      },
      "execution_count": 11,
      "outputs": [
        {
          "output_type": "stream",
          "name": "stdout",
          "text": [
            "['0001' '0002' '0003']\n"
          ]
        }
      ]
    },
    {
      "cell_type": "markdown",
      "source": [
        "###np.char.zfill###\n",
        " This fill zero in provided Array"
      ],
      "metadata": {
        "id": "-sxYhrMyxYLK"
      }
    },
    {
      "cell_type": "code",
      "source": [
        "import numpy as np\n",
        " \n",
        " \n",
        "A = np.array(['1', '2', '3'], dtype=str)\n",
        " \n",
        "print(np.char.zfill(A, 4)) #in Array A fill zero till 3 postition"
      ],
      "metadata": {
        "id": "4bySITiGxNIX",
        "outputId": "c13fb995-8232-4c25-dd2d-2d6fa6c0c776",
        "colab": {
          "base_uri": "https://localhost:8080/"
        }
      },
      "execution_count": 14,
      "outputs": [
        {
          "output_type": "stream",
          "name": "stdout",
          "text": [
            "['0001' '0002' '0003']\n"
          ]
        }
      ]
    },
    {
      "cell_type": "markdown",
      "source": [
        ""
      ],
      "metadata": {
        "id": "qx4UT7jPx48m"
      }
    },
    {
      "cell_type": "markdown",
      "source": [
        "###numpy.char.split###\n",
        "\n",
        "char.split(a, sep=None, maxsplit=None)\n",
        "\n",
        "For each element in a, return a list of the words in the string, using sep as the delimiter string.\n",
        "\n",
        "Calls str.split element-wise.\n",
        "\n",
        "Parameters\n",
        "aarray_like of str or unicode\n",
        "sepstr or unicode, optional\n",
        "If sep is not specified or None, any whitespace string is a separator.\n",
        "\n",
        "maxsplitint, optional\n",
        "If maxsplit is given, at most maxsplit splits are done."
      ],
      "metadata": {
        "id": "Y7AM6AV4yAl7"
      }
    },
    {
      "cell_type": "code",
      "source": [
        "import numpy as np\n",
        "\n",
        "\n",
        "A = np.array([['PLW CDR 11B TEN', 'AMC LPP'],\n",
        "              ['CDR PKO KGH', 'CCC QMK']], dtype=str)\n",
        "              \n",
        "print(np.char.split(A,maxsplit=2))"
      ],
      "metadata": {
        "id": "zlKLOzhHxVKB",
        "outputId": "8a9f25ac-bbd0-4fd2-f59d-eb35cc2eb423",
        "colab": {
          "base_uri": "https://localhost:8080/"
        }
      },
      "execution_count": 17,
      "outputs": [
        {
          "output_type": "stream",
          "name": "stdout",
          "text": [
            "[[list(['PLW', 'CDR', '11B TEN']) list(['AMC', 'LPP'])]\n",
            " [list(['CDR', 'PKO', 'KGH']) list(['CCC', 'QMK'])]]\n"
          ]
        }
      ]
    },
    {
      "cell_type": "markdown",
      "source": [
        "###numpy.char.strip###\n",
        "\n",
        "char.strip(a, chars=None)\n",
        "\n",
        "For each element in a, return a copy with the leading and trailing characters removed.\n",
        "\n",
        "Calls str.strip element-wise.\n",
        "\n",
        "Parameters\n",
        "aarray-like of str or unicode\n",
        "charsstr or unicode, optional\n",
        "The chars argument is a string specifying the set of characters to be removed. If omitted or None, the chars argument defaults to removing whitespace. The chars argument is not a prefix or suffix; rather, all combinations of its values are stripped.\n",
        "\n",
        "Returns\n",
        "outndarray"
      ],
      "metadata": {
        "id": "tzVwe6pzzls8"
      }
    },
    {
      "cell_type": "markdown",
      "source": [
        "###numpy.char.replace###\n",
        "\n",
        "char.replace(a, old, new, count=None)\n",
        "\n",
        "For each element in a, return a copy of the string with all occurrences of substring old replaced by new.\n",
        "\n",
        "Calls str.replace element-wise.\n",
        "\n",
        "Parameters\n",
        "aarray-like of str or unicode\n",
        "old, newstr or unicode\n",
        "countint, optional\n",
        "If the optional argument count is given, only the first count occurrences are replaced."
      ],
      "metadata": {
        "id": "Z2_evLduz73Z"
      }
    },
    {
      "cell_type": "code",
      "source": [
        "import numpy as np\n",
        "\n",
        "\n",
        "A = np.array([['#summer#time#mood'],\n",
        "              ['#sport#time']])\n",
        "              \n",
        "              \n",
        "A = np.char.strip(np.char.replace(A,\"#\",\" \"))\n",
        "print(A)"
      ],
      "metadata": {
        "id": "5OBW-iGox4dI",
        "outputId": "4097044c-b91c-445a-90e8-2da95e56afb0",
        "colab": {
          "base_uri": "https://localhost:8080/"
        }
      },
      "execution_count": 18,
      "outputs": [
        {
          "output_type": "stream",
          "name": "stdout",
          "text": [
            "[['summer time mood']\n",
            " ['sport time']]\n"
          ]
        }
      ]
    },
    {
      "cell_type": "markdown",
      "source": [
        "###numpy.char.count###\n",
        "\n",
        "char.count(a, sub, start=0, end=None)\n",
        "\n",
        "Returns an array with the number of non-overlapping occurrences of substring sub in the range [start, end].\n",
        "\n",
        "Calls str.count element-wise.\n",
        "\n",
        "Parameters\n",
        "aarray_like of str or unicode\n",
        "substr or unicode\n",
        "The substring to search for.\n",
        "\n",
        "start, endint, optional\n",
        "Optional arguments start and end are interpreted as slice notation to specify the range in which to count."
      ],
      "metadata": {
        "id": "87dB6oQr1U3q"
      }
    },
    {
      "cell_type": "code",
      "source": [
        "import numpy as np\n",
        "\n",
        "\n",
        "A = np.array([['#summer#time#mood', '#vibe'],\n",
        "              ['#sport#time', '#good#time'],\n",
        "              ['#event#summer', '#fast#move']])\n",
        "              \n",
        "print(np.char.count(A,\"time\"))"
      ],
      "metadata": {
        "id": "-KUtFuGY0gJO",
        "outputId": "6fac0b8d-2047-4104-c084-089199cd30a8",
        "colab": {
          "base_uri": "https://localhost:8080/"
        }
      },
      "execution_count": 19,
      "outputs": [
        {
          "output_type": "stream",
          "name": "stdout",
          "text": [
            "[[1 0]\n",
            " [1 1]\n",
            " [0 0]]\n"
          ]
        }
      ]
    },
    {
      "cell_type": "code",
      "source": [
        "import numpy as np\n",
        "\n",
        "\n",
        "text = \"\"\"ALIOR\tPLALIOR00045\t88 860 000\t1 386 216 000\t0,891\t2,16\t14\n",
        "CCC\tPLCCC0000016\t27 918 000\t1 292 603 400\t0,831\t5,28\t42\n",
        "CDPROJEKT\tPLOPTTC00011\t67 348 000\t22 864 646 000\t14,702\t7,39\t7\n",
        "CYFRPLSAT\tPLCFRPT00013\t275 301 000\t6 854 994 900\t4,408\t1,17\t14\n",
        "DINOPL\tPLDINPL00011\t47 937 000\t8 916 282 000\t5,733\t9,13\t12\n",
        "JSW\tPLJSW0000015\t52 636 000\t716 902 320\t0,461\t1,51\t24\n",
        "KGHM\tPLKGHM000017\t136 410 000\t9 881 540 400\t6,354\t4,78\t8\n",
        "LOTOS\tPLLOTOS00025\t86 543 000\t5 609 717 260\t3,607\t2,91\t16\n",
        "LPP\tPLLPP0000011\t1 306 000\t7 444 200 000\t4,787\t1,43\t19\n",
        "MBANK\tPLBRE0000012\t12 997 000\t2 830 746 600\t1,820\t0,42\t24\n",
        "ORANGEPL\tPLTLKPL00017\t647 357 000\t4 285 503 340\t2,756\t1,16\t13\n",
        "PEKAO\tPLPEKAO00016\t176 379 000\t9 619 710 660\t6,185\t5,27\t9\n",
        "PGE\tPLPGER000010\t796 776 000\t3 561 588 720\t2,290\t2,88\t18\n",
        "PGNIG\tPLPGNIG00014\t1 624 608 000\t6 072 784 704\t3,905\t1,56\t12\n",
        "PKNORLEN\tPLPKN0000018\t289 049 000\t17 701 360 760\t11,382\t12,44\t8\n",
        "PKOBP\tPLPKO0000016\t857 593 000\t18 807 014 490\t12,093\t10,49\t9\n",
        "PLAY\tLU1642887738\t114 151 000\t3 696 209 380\t2,377\t1,47\t16\n",
        "PZU\tPLPZU0000011\t568 305 000\t17 515 160 100\t11,262\t6,64\t6\n",
        "SANPL\tPLBZ00000044\t33 207 000\t5 213 499 000\t3,352\t1,91\t18\n",
        "TAURONPE\tPLTAURN00011\t1 043 590 000\t1 252 308 000\t0,805\t1,21\t33\"\"\"\n",
        "\n",
        "lines = text.splitlines()\n",
        "print(\"\\n---------------------\",lines)\n",
        "lines = [line.split('\\t') for line in lines]\n",
        "print(\"\\n\",lines,'----------')\n",
        "result = np.array(lines, dtype=np.str)\n",
        "print(result)"
      ],
      "metadata": {
        "id": "HetQVsEi1iKP",
        "outputId": "6d2f3b26-7ef1-45ff-cedd-8af4664a71ba",
        "colab": {
          "base_uri": "https://localhost:8080/"
        }
      },
      "execution_count": 23,
      "outputs": [
        {
          "output_type": "stream",
          "name": "stdout",
          "text": [
            "\n",
            "--------------------- ['ALIOR\\tPLALIOR00045\\t88 860 000\\t1 386 216 000\\t0,891\\t2,16\\t14', 'CCC\\tPLCCC0000016\\t27 918 000\\t1 292 603 400\\t0,831\\t5,28\\t42', 'CDPROJEKT\\tPLOPTTC00011\\t67 348 000\\t22 864 646 000\\t14,702\\t7,39\\t7', 'CYFRPLSAT\\tPLCFRPT00013\\t275 301 000\\t6 854 994 900\\t4,408\\t1,17\\t14', 'DINOPL\\tPLDINPL00011\\t47 937 000\\t8 916 282 000\\t5,733\\t9,13\\t12', 'JSW\\tPLJSW0000015\\t52 636 000\\t716 902 320\\t0,461\\t1,51\\t24', 'KGHM\\tPLKGHM000017\\t136 410 000\\t9 881 540 400\\t6,354\\t4,78\\t8', 'LOTOS\\tPLLOTOS00025\\t86 543 000\\t5 609 717 260\\t3,607\\t2,91\\t16', 'LPP\\tPLLPP0000011\\t1 306 000\\t7 444 200 000\\t4,787\\t1,43\\t19', 'MBANK\\tPLBRE0000012\\t12 997 000\\t2 830 746 600\\t1,820\\t0,42\\t24', 'ORANGEPL\\tPLTLKPL00017\\t647 357 000\\t4 285 503 340\\t2,756\\t1,16\\t13', 'PEKAO\\tPLPEKAO00016\\t176 379 000\\t9 619 710 660\\t6,185\\t5,27\\t9', 'PGE\\tPLPGER000010\\t796 776 000\\t3 561 588 720\\t2,290\\t2,88\\t18', 'PGNIG\\tPLPGNIG00014\\t1 624 608 000\\t6 072 784 704\\t3,905\\t1,56\\t12', 'PKNORLEN\\tPLPKN0000018\\t289 049 000\\t17 701 360 760\\t11,382\\t12,44\\t8', 'PKOBP\\tPLPKO0000016\\t857 593 000\\t18 807 014 490\\t12,093\\t10,49\\t9', 'PLAY\\tLU1642887738\\t114 151 000\\t3 696 209 380\\t2,377\\t1,47\\t16', 'PZU\\tPLPZU0000011\\t568 305 000\\t17 515 160 100\\t11,262\\t6,64\\t6', 'SANPL\\tPLBZ00000044\\t33 207 000\\t5 213 499 000\\t3,352\\t1,91\\t18', 'TAURONPE\\tPLTAURN00011\\t1 043 590 000\\t1 252 308 000\\t0,805\\t1,21\\t33']\n",
            "\n",
            " [['ALIOR', 'PLALIOR00045', '88 860 000', '1 386 216 000', '0,891', '2,16', '14'], ['CCC', 'PLCCC0000016', '27 918 000', '1 292 603 400', '0,831', '5,28', '42'], ['CDPROJEKT', 'PLOPTTC00011', '67 348 000', '22 864 646 000', '14,702', '7,39', '7'], ['CYFRPLSAT', 'PLCFRPT00013', '275 301 000', '6 854 994 900', '4,408', '1,17', '14'], ['DINOPL', 'PLDINPL00011', '47 937 000', '8 916 282 000', '5,733', '9,13', '12'], ['JSW', 'PLJSW0000015', '52 636 000', '716 902 320', '0,461', '1,51', '24'], ['KGHM', 'PLKGHM000017', '136 410 000', '9 881 540 400', '6,354', '4,78', '8'], ['LOTOS', 'PLLOTOS00025', '86 543 000', '5 609 717 260', '3,607', '2,91', '16'], ['LPP', 'PLLPP0000011', '1 306 000', '7 444 200 000', '4,787', '1,43', '19'], ['MBANK', 'PLBRE0000012', '12 997 000', '2 830 746 600', '1,820', '0,42', '24'], ['ORANGEPL', 'PLTLKPL00017', '647 357 000', '4 285 503 340', '2,756', '1,16', '13'], ['PEKAO', 'PLPEKAO00016', '176 379 000', '9 619 710 660', '6,185', '5,27', '9'], ['PGE', 'PLPGER000010', '796 776 000', '3 561 588 720', '2,290', '2,88', '18'], ['PGNIG', 'PLPGNIG00014', '1 624 608 000', '6 072 784 704', '3,905', '1,56', '12'], ['PKNORLEN', 'PLPKN0000018', '289 049 000', '17 701 360 760', '11,382', '12,44', '8'], ['PKOBP', 'PLPKO0000016', '857 593 000', '18 807 014 490', '12,093', '10,49', '9'], ['PLAY', 'LU1642887738', '114 151 000', '3 696 209 380', '2,377', '1,47', '16'], ['PZU', 'PLPZU0000011', '568 305 000', '17 515 160 100', '11,262', '6,64', '6'], ['SANPL', 'PLBZ00000044', '33 207 000', '5 213 499 000', '3,352', '1,91', '18'], ['TAURONPE', 'PLTAURN00011', '1 043 590 000', '1 252 308 000', '0,805', '1,21', '33']] ----------\n",
            "[['ALIOR' 'PLALIOR00045' '88 860 000' '1 386 216 000' '0,891' '2,16' '14']\n",
            " ['CCC' 'PLCCC0000016' '27 918 000' '1 292 603 400' '0,831' '5,28' '42']\n",
            " ['CDPROJEKT' 'PLOPTTC00011' '67 348 000' '22 864 646 000' '14,702'\n",
            "  '7,39' '7']\n",
            " ['CYFRPLSAT' 'PLCFRPT00013' '275 301 000' '6 854 994 900' '4,408' '1,17'\n",
            "  '14']\n",
            " ['DINOPL' 'PLDINPL00011' '47 937 000' '8 916 282 000' '5,733' '9,13'\n",
            "  '12']\n",
            " ['JSW' 'PLJSW0000015' '52 636 000' '716 902 320' '0,461' '1,51' '24']\n",
            " ['KGHM' 'PLKGHM000017' '136 410 000' '9 881 540 400' '6,354' '4,78' '8']\n",
            " ['LOTOS' 'PLLOTOS00025' '86 543 000' '5 609 717 260' '3,607' '2,91' '16']\n",
            " ['LPP' 'PLLPP0000011' '1 306 000' '7 444 200 000' '4,787' '1,43' '19']\n",
            " ['MBANK' 'PLBRE0000012' '12 997 000' '2 830 746 600' '1,820' '0,42' '24']\n",
            " ['ORANGEPL' 'PLTLKPL00017' '647 357 000' '4 285 503 340' '2,756' '1,16'\n",
            "  '13']\n",
            " ['PEKAO' 'PLPEKAO00016' '176 379 000' '9 619 710 660' '6,185' '5,27' '9']\n",
            " ['PGE' 'PLPGER000010' '796 776 000' '3 561 588 720' '2,290' '2,88' '18']\n",
            " ['PGNIG' 'PLPGNIG00014' '1 624 608 000' '6 072 784 704' '3,905' '1,56'\n",
            "  '12']\n",
            " ['PKNORLEN' 'PLPKN0000018' '289 049 000' '17 701 360 760' '11,382'\n",
            "  '12,44' '8']\n",
            " ['PKOBP' 'PLPKO0000016' '857 593 000' '18 807 014 490' '12,093' '10,49'\n",
            "  '9']\n",
            " ['PLAY' 'LU1642887738' '114 151 000' '3 696 209 380' '2,377' '1,47' '16']\n",
            " ['PZU' 'PLPZU0000011' '568 305 000' '17 515 160 100' '11,262' '6,64' '6']\n",
            " ['SANPL' 'PLBZ00000044' '33 207 000' '5 213 499 000' '3,352' '1,91' '18']\n",
            " ['TAURONPE' 'PLTAURN00011' '1 043 590 000' '1 252 308 000' '0,805'\n",
            "  '1,21' '33']]\n"
          ]
        },
        {
          "output_type": "stream",
          "name": "stderr",
          "text": [
            "/usr/local/lib/python3.7/dist-packages/ipykernel_launcher.py:29: DeprecationWarning: `np.str` is a deprecated alias for the builtin `str`. To silence this warning, use `str` by itself. Doing this will not modify any behavior and is safe. If you specifically wanted the numpy scalar type, use `np.str_` here.\n",
            "Deprecated in NumPy 1.20; for more details and guidance: https://numpy.org/devdocs/release/1.20.0-notes.html#deprecations\n"
          ]
        }
      ]
    },
    {
      "cell_type": "code",
      "source": [
        "import numpy as np\n",
        " \n",
        " \n",
        "np.set_printoptions(linewidth=150)\n",
        "result = np.array([['ALIOR', 'PLALIOR00045', '88 860 000', '1 386 216 000', '0,891', '2,16', '14'],\n",
        "       ['CCC', 'PLCCC0000016', '27 918 000', '1 292 603 400', '0,831', '5,28', '42'],\n",
        "       ['CDPROJEKT', 'PLOPTTC00011', '67 348 000', '22 864 646 000', '14,702', '7,39', '7'],\n",
        "       ['CYFRPLSAT', 'PLCFRPT00013', '275 301 000', '6 854 994 900', '4,408', '1,17', '14'],\n",
        "       ['DINOPL', 'PLDINPL00011', '47 937 000', '8 916 282 000', '5,733', '9,13', '12'],\n",
        "       ['JSW', 'PLJSW0000015', '52 636 000', '716 902 320', '0,461', '1,51', '24'],\n",
        "       ['KGHM', 'PLKGHM000017', '136 410 000', '9 881 540 400', '6,354', '4,78', '8'],\n",
        "       ['LOTOS', 'PLLOTOS00025', '86 543 000', '5 609 717 260', '3,607', '2,91', '16'],\n",
        "       ['LPP', 'PLLPP0000011', '1 306 000', '7 444 200 000', '4,787', '1,43', '19'],\n",
        "       ['MBANK', 'PLBRE0000012', '12 997 000', '2 830 746 600', '1,820', '0,42', '24'],\n",
        "       ['ORANGEPL', 'PLTLKPL00017', '647 357 000', '4 285 503 340', '2,756', '1,16', '13'],\n",
        "       ['PEKAO', 'PLPEKAO00016', '176 379 000', '9 619 710 660', '6,185', '5,27', '9'],\n",
        "       ['PGE', 'PLPGER000010', '796 776 000', '3 561 588 720', '2,290', '2,88', '18'],\n",
        "       ['PGNIG', 'PLPGNIG00014', '1 624 608 000', '6 072 784 704', '3,905', '1,56', '12'],\n",
        "       ['PKNORLEN', 'PLPKN0000018', '289 049 000', '17 701 360 760', '11,382', '12,44', '8'],\n",
        "       ['PKOBP', 'PLPKO0000016', '857 593 000', '18 807 014 490', '12,093', '10,49', '9'],\n",
        "       ['PLAY', 'LU1642887738', '114 151 000', '3 696 209 380', '2,377', '1,47', '16'],\n",
        "       ['PZU', 'PLPZU0000011', '568 305 000', '17 515 160 100', '11,262', '6,64', '6'],\n",
        "       ['SANPL', 'PLBZ00000044', '33 207 000', '5 213 499 000', '3,352', '1,91', '18'],\n",
        "       ['TAURONPE', 'PLTAURN00011', '1 043 590 000', '1 252 308 000', '0,805', '1,21', '33']], dtype='<U14')\n",
        " \n",
        "result = np.char.replace(result, ' ', '')\n",
        "result = np.char.replace(result, ',', '.')\n",
        "print(result)"
      ],
      "metadata": {
        "id": "VJtGnmto3W98",
        "outputId": "8906a76f-7395-4c01-f99b-b1eb7a10ef48",
        "colab": {
          "base_uri": "https://localhost:8080/"
        }
      },
      "execution_count": 24,
      "outputs": [
        {
          "output_type": "stream",
          "name": "stdout",
          "text": [
            "[['ALIOR' 'PLALIOR00045' '88860000' '1386216000' '0.891' '2.16' '14']\n",
            " ['CCC' 'PLCCC0000016' '27918000' '1292603400' '0.831' '5.28' '42']\n",
            " ['CDPROJEKT' 'PLOPTTC00011' '67348000' '22864646000' '14.702' '7.39' '7']\n",
            " ['CYFRPLSAT' 'PLCFRPT00013' '275301000' '6854994900' '4.408' '1.17' '14']\n",
            " ['DINOPL' 'PLDINPL00011' '47937000' '8916282000' '5.733' '9.13' '12']\n",
            " ['JSW' 'PLJSW0000015' '52636000' '716902320' '0.461' '1.51' '24']\n",
            " ['KGHM' 'PLKGHM000017' '136410000' '9881540400' '6.354' '4.78' '8']\n",
            " ['LOTOS' 'PLLOTOS00025' '86543000' '5609717260' '3.607' '2.91' '16']\n",
            " ['LPP' 'PLLPP0000011' '1306000' '7444200000' '4.787' '1.43' '19']\n",
            " ['MBANK' 'PLBRE0000012' '12997000' '2830746600' '1.820' '0.42' '24']\n",
            " ['ORANGEPL' 'PLTLKPL00017' '647357000' '4285503340' '2.756' '1.16' '13']\n",
            " ['PEKAO' 'PLPEKAO00016' '176379000' '9619710660' '6.185' '5.27' '9']\n",
            " ['PGE' 'PLPGER000010' '796776000' '3561588720' '2.290' '2.88' '18']\n",
            " ['PGNIG' 'PLPGNIG00014' '1624608000' '6072784704' '3.905' '1.56' '12']\n",
            " ['PKNORLEN' 'PLPKN0000018' '289049000' '17701360760' '11.382' '12.44' '8']\n",
            " ['PKOBP' 'PLPKO0000016' '857593000' '18807014490' '12.093' '10.49' '9']\n",
            " ['PLAY' 'LU1642887738' '114151000' '3696209380' '2.377' '1.47' '16']\n",
            " ['PZU' 'PLPZU0000011' '568305000' '17515160100' '11.262' '6.64' '6']\n",
            " ['SANPL' 'PLBZ00000044' '33207000' '5213499000' '3.352' '1.91' '18']\n",
            " ['TAURONPE' 'PLTAURN00011' '1043590000' '1252308000' '0.805' '1.21' '33']]\n"
          ]
        }
      ]
    },
    {
      "cell_type": "markdown",
      "source": [
        "###NUmpy.char.startswith###\n",
        "\n",
        "char.startswith(a, prefix, start=0, end=None)\n",
        "\n",
        "Returns a boolean array which is True where the string element in a starts with prefix, otherwise False.\n",
        "\n",
        "Calls str.startswith element-wise.\n",
        "\n",
        "Parameters\n",
        "aarray_like of str or unicode\n",
        "prefixstr\n",
        "start, endint, optional\n",
        "With optional start, test beginning at that position. With optional end, stop comparing at that position."
      ],
      "metadata": {
        "id": "jQZyrHmJ-rSS"
      }
    },
    {
      "cell_type": "code",
      "source": [
        "import numpy as np\n",
        "\n",
        "\n",
        "np.set_printoptions(linewidth=150)\n",
        "result = np.array([['ALIOR', 'PLALIOR00045', '88860000', '1386216000', '0.891', '2.16', '14'],\n",
        "       ['CCC', 'PLCCC0000016', '27918000', '1292603400', '0.831', '5.28', '42'],\n",
        "       ['CDPROJEKT', 'PLOPTTC00011', '67348000', '22864646000', '14.702', '7.39', '7'],\n",
        "       ['CYFRPLSAT', 'PLCFRPT00013', '275301000', '6854994900', '4.408', '1.17', '14'],\n",
        "       ['DINOPL', 'PLDINPL00011', '47937000', '8916282000', '5.733', '9.13', '12'],\n",
        "       ['JSW', 'PLJSW0000015', '52636000', '716902320', '0.461', '1.51', '24'],\n",
        "       ['KGHM', 'PLKGHM000017', '136410000', '9881540400', '6.354', '4.78', '8'],\n",
        "       ['LOTOS', 'PLLOTOS00025', '86543000', '5609717260', '3.607', '2.91', '16'],\n",
        "       ['LPP', 'PLLPP0000011', '1306000', '7444200000', '4.787', '1.43', '19'],\n",
        "       ['MBANK', 'PLBRE0000012', '12997000', '2830746600', '1.820', '0.42', '24'],\n",
        "       ['ORANGEPL', 'PLTLKPL00017', '647357000', '4285503340', '2.756', '1.16', '13'],\n",
        "       ['PEKAO', 'PLPEKAO00016', '176379000', '9619710660', '6.185', '5.27', '9'],\n",
        "       ['PGE', 'PLPGER000010', '796776000', '3561588720', '2.290', '2.88', '18'],\n",
        "       ['PGNIG', 'PLPGNIG00014', '1624608000', '6072784704', '3.905', '1.56', '12'],\n",
        "       ['PKNORLEN', 'PLPKN0000018', '289049000', '17701360760', '11.382', '12.44', '8'],\n",
        "       ['PKOBP', 'PLPKO0000016', '857593000', '18807014490', '12.093', '10.49', '9'],\n",
        "       ['PLAY', 'LU1642887738', '114151000', '3696209380', '2.377', '1.47', '16'],\n",
        "       ['PZU', 'PLPZU0000011', '568305000', '17515160100', '11.262', '6.64', '6'],\n",
        "       ['SANPL', 'PLBZ00000044', '33207000', '5213499000', '3.352', '1.91', '18'],\n",
        "       ['TAURONPE', 'PLTAURN00011', '1043590000', '1252308000', '0.805', '1.21', '33']], dtype='<U12')\n",
        "       \n",
        "stock_startwith_P = result[np.char.startswith(result[:,0], 'P')]\n",
        "print(stock_startwith_P)"
      ],
      "metadata": {
        "id": "auwIM54J9Khx",
        "outputId": "c5c6a1de-c713-4a61-a3f7-9261c01d95c2",
        "colab": {
          "base_uri": "https://localhost:8080/"
        }
      },
      "execution_count": 31,
      "outputs": [
        {
          "output_type": "stream",
          "name": "stdout",
          "text": [
            "[['PEKAO' 'PLPEKAO00016' '176379000' '9619710660' '6.185' '5.27' '9']\n",
            " ['PGE' 'PLPGER000010' '796776000' '3561588720' '2.290' '2.88' '18']\n",
            " ['PGNIG' 'PLPGNIG00014' '1624608000' '6072784704' '3.905' '1.56' '12']\n",
            " ['PKNORLEN' 'PLPKN0000018' '289049000' '17701360760' '11.382' '12.44' '8']\n",
            " ['PKOBP' 'PLPKO0000016' '857593000' '18807014490' '12.093' '10.49' '9']\n",
            " ['PLAY' 'LU1642887738' '114151000' '3696209380' '2.377' '1.47' '16']\n",
            " ['PZU' 'PLPZU0000011' '568305000' '17515160100' '11.262' '6.64' '6']]\n"
          ]
        }
      ]
    },
    {
      "cell_type": "markdown",
      "source": [
        "###numpy.delete###\n",
        "\n",
        "numpy.delete(arr, obj, axis=None)\n",
        "\n",
        "Return a new array with sub-arrays along an axis deleted. For a one dimensional array, this returns those entries not returned by arr[obj]."
      ],
      "metadata": {
        "id": "rybM_S1wtf4L"
      }
    },
    {
      "cell_type": "code",
      "source": [
        "import numpy as np\n",
        "\n",
        "\n",
        "np.set_printoptions(linewidth=160, suppress=True)\n",
        "\n",
        "wig_games = np.array([['Profile', 'Time', 'Course', 'Change', 'Change%', 'Ref.', 'Open', 'Low', 'High', 'Volume', 'Turn', 'Share'],\n",
        "       ['11B(11BIT)', '17kwi17:01', '391.00', '+8.00', '(+2.09%)', '383.00', '383.50', '383.00', '394.00', '12784', '4994874', '19.034%'],\n",
        "       ['CDR(CDPROJEKT)', '17kwi17:01', '339.50', '+5.30', '(+1.59%)', '334.20', '338.30', '337.00', '344.20', '233059', '79245368', '39.618%'],\n",
        "       ['CIG(CIGAMES)', '17kwi17:03', '0.742', '-0.012', '(-1.59%)', '0.754', '0.772', '0.730', '0.772', '1311078', '971459', '1.855%'],\n",
        "       ['PLW(PLAYWAY)', '17kwi17:03', '387.50', '+18.00', '(+4.87%)', '369.50', '374.00', '373.00', '388.00', '33206', '12661786', '10.638%'],\n",
        "       ['TEN(TSGAMES)', '17kwi17:02', '349.50', '+22.50', '(+6.88%)', '327.00', '332.00', '330.00', '353.50', '39793', '13697060', '28.855%']], dtype='<U14')\n",
        "       \n",
        "wig_games = np.delete(wig_games, [3, 4, 5, 9], axis=1)\n",
        "print(wig_games)"
      ],
      "metadata": {
        "id": "gwQ7eQiz9-od",
        "outputId": "c1790337-7598-4950-a9a8-5b21b86f60ac",
        "colab": {
          "base_uri": "https://localhost:8080/"
        }
      },
      "execution_count": 1,
      "outputs": [
        {
          "output_type": "stream",
          "name": "stdout",
          "text": [
            "[['Profile' 'Time' 'Course' 'Open' 'Low' 'High' 'Turn' 'Share']\n",
            " ['11B(11BIT)' '17kwi17:01' '391.00' '383.50' '383.00' '394.00' '4994874' '19.034%']\n",
            " ['CDR(CDPROJEKT)' '17kwi17:01' '339.50' '338.30' '337.00' '344.20' '79245368' '39.618%']\n",
            " ['CIG(CIGAMES)' '17kwi17:03' '0.742' '0.772' '0.730' '0.772' '971459' '1.855%']\n",
            " ['PLW(PLAYWAY)' '17kwi17:03' '387.50' '374.00' '373.00' '388.00' '12661786' '10.638%']\n",
            " ['TEN(TSGAMES)' '17kwi17:02' '349.50' '332.00' '330.00' '353.50' '13697060' '28.855%']]\n"
          ]
        }
      ]
    },
    {
      "cell_type": "markdown",
      "source": [
        "###numpy.mean###\n",
        "numpy.mean(a, axis=None, dtype=None, out=None, keepdims=<no value>, *, where=<no value>)\n",
        "\n",
        "Compute the arithmetic mean along the specified axis.\n",
        "\n",
        "Returns the average of the array elements. The average is taken over the flattened array by default, otherwise over the specified axis. float64 intermediate and return values are used for integer inputs.\n",
        "\n",
        "Parameters\n",
        "aarray_like\n",
        "Array containing numbers whose mean is desired. If a is not an array, a conversion is attempted.\n",
        "\n",
        "axisNone or int or tuple of ints, optional\n",
        "Axis or axes along which the means are computed. The default"
      ],
      "metadata": {
        "id": "r1xk8_qJte7J"
      }
    },
    {
      "cell_type": "code",
      "source": [
        "import numpy as np\n",
        "\n",
        "\n",
        "playway_values = np.array([[   305. ,    324.5,    283.5,    310. ,  64081. ],\n",
        "       [   325.5,    340.5,    320. ,    340.5,  55496. ],\n",
        "       [   324. ,    340.5,    315. ,    330. ,  36152. ],\n",
        "       [   344. ,    344. ,    310. ,    315. ,  35992. ],\n",
        "       [   306.5,    307. ,    291. ,    305. ,  32539. ],\n",
        "       [   274. ,    291. ,    250. ,    258. ,  79402. ],\n",
        "       [   278. ,    284.5,    256. ,    264. ,  35700. ],\n",
        "       [   270. ,    270. ,    238.5,    245. ,  60445. ],\n",
        "       [   218. ,    228. ,    196. ,    197. ,  94031. ],\n",
        "       [   210. ,    229. ,    198.8,    211. , 100412. ],\n",
        "       [   205. ,    248. ,    197.8,    240.5,  50659. ],\n",
        "       [   245. ,    269. ,    232.5,    264. ,  99480. ],\n",
        "       [   264. ,    280. ,    251. ,    270. ,  70136. ],\n",
        "       [   267. ,    280. ,    267. ,    279.5,  30732. ],\n",
        "       [   297.5,    307. ,    280. ,    280.5,  43426. ],\n",
        "       [   274. ,    289. ,    258. ,    285. ,  37098. ],\n",
        "       [   305. ,    309. ,    296.5,    309. ,  31939. ],\n",
        "       [   313. ,    330. ,    295. ,    304. ,  46724. ],\n",
        "       [   300. ,    309. ,    295.5,    300. ,  27213. ],\n",
        "       [   302. ,    306.5,    290. ,    296. ,  13466. ],\n",
        "       [   299. ,    300. ,    287. ,    300. ,  10316. ],\n",
        "       [   302.5,    309. ,    302. ,    306.5,  15698. ]])\n",
        "       \n",
        "print(np.round(playway_values.mean(axis=0), 2))\n"
      ],
      "metadata": {
        "id": "B6xDoy17tZVq",
        "outputId": "6e2082c2-59bc-4b09-bf68-935386980190",
        "colab": {
          "base_uri": "https://localhost:8080/"
        }
      },
      "execution_count": 2,
      "outputs": [
        {
          "output_type": "stream",
          "name": "stdout",
          "text": [
            "[  283.14   295.25   268.69   282.3  48688.05]\n"
          ]
        }
      ]
    },
    {
      "cell_type": "markdown",
      "source": [
        "Add Column in table of max - min"
      ],
      "metadata": {
        "id": "xjY_8iFXzJTL"
      }
    },
    {
      "cell_type": "code",
      "source": [
        "import numpy as np\n",
        "\n",
        "\n",
        "np.set_printoptions(suppress=True)\n",
        "playway_values = np.array([[   305. ,    324.5,    283.5,    310. ,  64081. ],\n",
        "       [   325.5,    340.5,    320. ,    340.5,  55496. ],\n",
        "       [   324. ,    340.5,    315. ,    330. ,  36152. ],\n",
        "       [   344. ,    344. ,    310. ,    315. ,  35992. ],\n",
        "       [   306.5,    307. ,    291. ,    305. ,  32539. ],\n",
        "       [   274. ,    291. ,    250. ,    258. ,  79402. ],\n",
        "       [   278. ,    284.5,    256. ,    264. ,  35700. ],\n",
        "       [   270. ,    270. ,    238.5,    245. ,  60445. ],\n",
        "       [   218. ,    228. ,    196. ,    197. ,  94031. ],\n",
        "       [   210. ,    229. ,    198.8,    211. , 100412. ],\n",
        "       [   205. ,    248. ,    197.8,    240.5,  50659. ],\n",
        "       [   245. ,    269. ,    232.5,    264. ,  99480. ],\n",
        "       [   264. ,    280. ,    251. ,    270. ,  70136. ],\n",
        "       [   267. ,    280. ,    267. ,    279.5,  30732. ],\n",
        "       [   297.5,    307. ,    280. ,    280.5,  43426. ],\n",
        "       [   274. ,    289. ,    258. ,    285. ,  37098. ],\n",
        "       [   305. ,    309. ,    296.5,    309. ,  31939. ],\n",
        "       [   313. ,    330. ,    295. ,    304. ,  46724. ],\n",
        "       [   300. ,    309. ,    295.5,    300. ,  27213. ],\n",
        "       [   302. ,    306.5,    290. ,    296. ,  13466. ],\n",
        "       [   299. ,    300. ,    287. ,    300. ,  10316. ],\n",
        "       [   302.5,    309. ,    302. ,    306.5,  15698. ]])\n",
        "       \n",
        "max_min_diff = playway_values[:, [1]] - playway_values[:, [2]]\n",
        "playway_values = np.concatenate((playway_values, max_min_diff), axis=1)\n",
        "print(playway_values)"
      ],
      "metadata": {
        "id": "yIUmnFZCyfwl",
        "outputId": "c406717b-c0e4-4b3d-fc94-78f4bab9b8d1",
        "colab": {
          "base_uri": "https://localhost:8080/"
        }
      },
      "execution_count": 3,
      "outputs": [
        {
          "output_type": "stream",
          "name": "stdout",
          "text": [
            "[[   305.     324.5    283.5    310.   64081.      41. ]\n",
            " [   325.5    340.5    320.     340.5  55496.      20.5]\n",
            " [   324.     340.5    315.     330.   36152.      25.5]\n",
            " [   344.     344.     310.     315.   35992.      34. ]\n",
            " [   306.5    307.     291.     305.   32539.      16. ]\n",
            " [   274.     291.     250.     258.   79402.      41. ]\n",
            " [   278.     284.5    256.     264.   35700.      28.5]\n",
            " [   270.     270.     238.5    245.   60445.      31.5]\n",
            " [   218.     228.     196.     197.   94031.      32. ]\n",
            " [   210.     229.     198.8    211.  100412.      30.2]\n",
            " [   205.     248.     197.8    240.5  50659.      50.2]\n",
            " [   245.     269.     232.5    264.   99480.      36.5]\n",
            " [   264.     280.     251.     270.   70136.      29. ]\n",
            " [   267.     280.     267.     279.5  30732.      13. ]\n",
            " [   297.5    307.     280.     280.5  43426.      27. ]\n",
            " [   274.     289.     258.     285.   37098.      31. ]\n",
            " [   305.     309.     296.5    309.   31939.      12.5]\n",
            " [   313.     330.     295.     304.   46724.      35. ]\n",
            " [   300.     309.     295.5    300.   27213.      13.5]\n",
            " [   302.     306.5    290.     296.   13466.      16.5]\n",
            " [   299.     300.     287.     300.   10316.      13. ]\n",
            " [   302.5    309.     302.     306.5  15698.       7. ]]\n"
          ]
        }
      ]
    },
    {
      "cell_type": "markdown",
      "source": [
        "\n",
        "playway_values = np.array([[   305. ,    324.5,    283.5,    310. ,  64081. ,     41. ],\n",
        "       [   325.5,    340.5,    320. ,    340.5,  55496. ,     20.5],\n",
        "       [   324. ,    340.5,    315. ,    330. ,  36152. ,     25.5],\n",
        "       [   344. ,    344. ,    310. ,    315. ,  35992. ,     34. ],\n",
        "       [   306.5,    307. ,    291. ,    305. ,  32539. ,     16. ],\n",
        "       [   274. ,    291. ,    250. ,    258. ,  79402. ,     41. ],\n",
        "       [   278. ,    284.5,    256. ,    264. ,  35700. ,     28.5],\n",
        "       [   270. ,    270. ,    238.5,    245. ,  60445. ,     31.5],\n",
        "       [   218. ,    228. ,    196. ,    197. ,  94031. ,     32. ],\n",
        "       [   210. ,    229. ,    198.8,    211. , 100412. ,     30.2],\n",
        "       [   205. ,    248. ,    197.8,    240.5,  50659. ,     50.2],\n",
        "       [   245. ,    269. ,    232.5,    264. ,  99480. ,     36.5],\n",
        "       [   264. ,    280. ,    251. ,    270. ,  70136. ,     29. ],\n",
        "       [   267. ,    280. ,    267. ,    279.5,  30732. ,     13. ],\n",
        "       [   297.5,    307. ,    280. ,    280.5,  43426. ,     27. ],\n",
        "       [   274. ,    289. ,    258. ,    285. ,  37098. ,     31. ],\n",
        "       [   305. ,    309. ,    296.5,    309. ,  31939. ,     12.5],\n",
        "       [   313. ,    330. ,    295. ,    304. ,  46724. ,     35. ],\n",
        "       [   300. ,    309. ,    295.5,    300. ,  27213. ,     13.5],\n",
        "       [   302. ,    306.5,    290. ,    296. ,  13466. ,     16.5],\n",
        "       [   299. ,    300. ,    287. ,    300. ,  10316. ,     13. ],\n",
        "       [   302.5,    309. ,    302. ,    306.5,  15698. ,      7. ]])\n",
        "\n",
        "\n",
        "From this array extract the first 10 rows with the highest volume sorted in descending order.\n",
        "\n"
      ],
      "metadata": {
        "id": "5OGc_dIG0DiX"
      }
    },
    {
      "cell_type": "code",
      "source": [
        "import numpy as np\n",
        "\n",
        "\n",
        "np.set_printoptions(suppress=True)\n",
        "playway_values = np.array([[   305. ,    324.5,    283.5,    310. ,  64081. ,     41. ],\n",
        "       [   325.5,    340.5,    320. ,    340.5,  55496. ,     20.5],\n",
        "       [   324. ,    340.5,    315. ,    330. ,  36152. ,     25.5],\n",
        "       [   344. ,    344. ,    310. ,    315. ,  35992. ,     34. ],\n",
        "       [   306.5,    307. ,    291. ,    305. ,  32539. ,     16. ],\n",
        "       [   274. ,    291. ,    250. ,    258. ,  79402. ,     41. ],\n",
        "       [   278. ,    284.5,    256. ,    264. ,  35700. ,     28.5],\n",
        "       [   270. ,    270. ,    238.5,    245. ,  60445. ,     31.5],\n",
        "       [   218. ,    228. ,    196. ,    197. ,  94031. ,     32. ],\n",
        "       [   210. ,    229. ,    198.8,    211. , 100412. ,     30.2],\n",
        "       [   205. ,    248. ,    197.8,    240.5,  50659. ,     50.2],\n",
        "       [   245. ,    269. ,    232.5,    264. ,  99480. ,     36.5],\n",
        "       [   264. ,    280. ,    251. ,    270. ,  70136. ,     29. ],\n",
        "       [   267. ,    280. ,    267. ,    279.5,  30732. ,     13. ],\n",
        "       [   297.5,    307. ,    280. ,    280.5,  43426. ,     27. ],\n",
        "       [   274. ,    289. ,    258. ,    285. ,  37098. ,     31. ],\n",
        "       [   305. ,    309. ,    296.5,    309. ,  31939. ,     12.5],\n",
        "       [   313. ,    330. ,    295. ,    304. ,  46724. ,     35. ],\n",
        "       [   300. ,    309. ,    295.5,    300. ,  27213. ,     13.5],\n",
        "       [   302. ,    306.5,    290. ,    296. ,  13466. ,     16.5],\n",
        "       [   299. ,    300. ,    287. ,    300. ,  10316. ,     13. ],\n",
        "       [   302.5,    309. ,    302. ,    306.5,  15698. ,      7. ]])\n",
        "       \n",
        "print(playway_values[playway_values[:, 4].argsort()[::-1]][:10])\n"
      ],
      "metadata": {
        "id": "owhG_R-PzIYJ",
        "outputId": "287fadc7-b6d5-477b-9a4f-63449afe1761",
        "colab": {
          "base_uri": "https://localhost:8080/"
        }
      },
      "execution_count": 4,
      "outputs": [
        {
          "output_type": "stream",
          "name": "stdout",
          "text": [
            "[[   210.     229.     198.8    211.  100412.      30.2]\n",
            " [   245.     269.     232.5    264.   99480.      36.5]\n",
            " [   218.     228.     196.     197.   94031.      32. ]\n",
            " [   274.     291.     250.     258.   79402.      41. ]\n",
            " [   264.     280.     251.     270.   70136.      29. ]\n",
            " [   305.     324.5    283.5    310.   64081.      41. ]\n",
            " [   270.     270.     238.5    245.   60445.      31.5]\n",
            " [   325.5    340.5    320.     340.5  55496.      20.5]\n",
            " [   205.     248.     197.8    240.5  50659.      50.2]\n",
            " [   313.     330.     295.     304.   46724.      35. ]]\n"
          ]
        }
      ]
    },
    {
      "cell_type": "markdown",
      "source": [
        "Exercise 101\n",
        "Solve the following system of equations using the Numpy package:\n",
        "\n",
        "![image Q](https://img-c.udemycdn.com/redactor/raw/2020-07-07_07-30-54-3efdf76400720be010142591d7184209.JPG)\n",
        "\n",
        "Print result to the console as shown below.\n",
        "\n"
      ],
      "metadata": {
        "id": "kMtKs2HZ2ZE6"
      }
    },
    {
      "cell_type": "code",
      "source": [
        "import numpy as np\n",
        "\n",
        "A = np.array([[5, -3], [1, -2]])\n",
        "B = np.array([[21], [7]])\n",
        "X = np.dot(np.linalg.inv(A), B)\n",
        "x = X[0][0]\n",
        "y = X[1][0]\n",
        "print(f'x = {x:.2f}\\ny = {y:.2f}')"
      ],
      "metadata": {
        "id": "E2MPIW4z0KVy",
        "outputId": "e792a04e-d9e8-4e9c-8b99-fff6984cc807",
        "colab": {
          "base_uri": "https://localhost:8080/"
        }
      },
      "execution_count": 5,
      "outputs": [
        {
          "output_type": "stream",
          "name": "stdout",
          "text": [
            "x = 3.00\n",
            "y = -2.00\n"
          ]
        }
      ]
    },
    {
      "cell_type": "code",
      "source": [
        ""
      ],
      "metadata": {
        "id": "aYKYFjMt2jkb"
      },
      "execution_count": null,
      "outputs": []
    }
  ]
}